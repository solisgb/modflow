{
 "cells": [
  {
   "cell_type": "markdown",
   "id": "fc89577a-18e3-4ebd-97db-abc014b9dfc2",
   "metadata": {},
   "source": [
    "# Compruebo ficheros de K generados en PEST\n",
    "PEST guarda las k calibradas en dos ficheros:\n",
    "* El .array\n",
    "* El fichero de input de modflow 6\n",
    "\n",
    "Aquí compruebo que los valores grabados son iguales (que lo son) "
   ]
  },
  {
   "cell_type": "code",
   "execution_count": null,
   "id": "72c57c12-5a8b-4f4a-8128-02785ff1ad2f",
   "metadata": {},
   "outputs": [],
   "source": [
    "import pandas as pd\n",
    "from pathlib import Path\n",
    "import shutil"
   ]
  },
  {
   "cell_type": "code",
   "execution_count": 5,
   "id": "761ab553-2b24-4053-a646-22d95ff67c8f",
   "metadata": {},
   "outputs": [
    {
     "data": {
      "text/html": [
       "<div>\n",
       "<style scoped>\n",
       "    .dataframe tbody tr th:only-of-type {\n",
       "        vertical-align: middle;\n",
       "    }\n",
       "\n",
       "    .dataframe tbody tr th {\n",
       "        vertical-align: top;\n",
       "    }\n",
       "\n",
       "    .dataframe thead th {\n",
       "        text-align: right;\n",
       "    }\n",
       "</style>\n",
       "<table border=\"1\" class=\"dataframe\">\n",
       "  <thead>\n",
       "    <tr style=\"text-align: right;\">\n",
       "      <th></th>\n",
       "      <th>layer</th>\n",
       "      <th>cell</th>\n",
       "      <th>idomain</th>\n",
       "      <th>x</th>\n",
       "      <th>y</th>\n",
       "      <th>kx</th>\n",
       "    </tr>\n",
       "  </thead>\n",
       "  <tbody>\n",
       "    <tr>\n",
       "      <th>0</th>\n",
       "      <td>0</td>\n",
       "      <td>31</td>\n",
       "      <td>1</td>\n",
       "      <td>639467.335014</td>\n",
       "      <td>4.257605e+06</td>\n",
       "      <td>16.04445</td>\n",
       "    </tr>\n",
       "    <tr>\n",
       "      <th>1</th>\n",
       "      <td>0</td>\n",
       "      <td>32</td>\n",
       "      <td>1</td>\n",
       "      <td>640467.335014</td>\n",
       "      <td>4.257605e+06</td>\n",
       "      <td>16.38689</td>\n",
       "    </tr>\n",
       "    <tr>\n",
       "      <th>2</th>\n",
       "      <td>0</td>\n",
       "      <td>33</td>\n",
       "      <td>1</td>\n",
       "      <td>641467.335014</td>\n",
       "      <td>4.257605e+06</td>\n",
       "      <td>15.85134</td>\n",
       "    </tr>\n",
       "    <tr>\n",
       "      <th>3</th>\n",
       "      <td>0</td>\n",
       "      <td>34</td>\n",
       "      <td>1</td>\n",
       "      <td>642467.335014</td>\n",
       "      <td>4.257605e+06</td>\n",
       "      <td>15.30914</td>\n",
       "    </tr>\n",
       "    <tr>\n",
       "      <th>4</th>\n",
       "      <td>0</td>\n",
       "      <td>68</td>\n",
       "      <td>1</td>\n",
       "      <td>638467.335014</td>\n",
       "      <td>4.256605e+06</td>\n",
       "      <td>15.17480</td>\n",
       "    </tr>\n",
       "  </tbody>\n",
       "</table>\n",
       "</div>"
      ],
      "text/plain": [
       "   layer  cell  idomain              x             y        kx\n",
       "0      0    31        1  639467.335014  4.257605e+06  16.04445\n",
       "1      0    32        1  640467.335014  4.257605e+06  16.38689\n",
       "2      0    33        1  641467.335014  4.257605e+06  15.85134\n",
       "3      0    34        1  642467.335014  4.257605e+06  15.30914\n",
       "4      0    68        1  638467.335014  4.256605e+06  15.17480"
      ]
     },
     "execution_count": 5,
     "metadata": {},
     "output_type": "execute_result"
    }
   ],
   "source": [
    "file_k_npf = r'E:\\LSGB\\20231117_JCUNVRS\\gwf\\calibrations\\kx.csv'\n",
    "k_npf = pd.read_csv(file_k_npf,header=0)\n",
    "k_npf.head()"
   ]
  },
  {
   "cell_type": "code",
   "execution_count": 26,
   "id": "5997b033-7b3a-4807-827d-ce68ee5a1c67",
   "metadata": {},
   "outputs": [
    {
     "data": {
      "text/html": [
       "<div>\n",
       "<style scoped>\n",
       "    .dataframe tbody tr th:only-of-type {\n",
       "        vertical-align: middle;\n",
       "    }\n",
       "\n",
       "    .dataframe tbody tr th {\n",
       "        vertical-align: top;\n",
       "    }\n",
       "\n",
       "    .dataframe thead th {\n",
       "        text-align: right;\n",
       "    }\n",
       "</style>\n",
       "<table border=\"1\" class=\"dataframe\">\n",
       "  <thead>\n",
       "    <tr style=\"text-align: right;\">\n",
       "      <th></th>\n",
       "      <th>layer</th>\n",
       "      <th>cell</th>\n",
       "      <th>idomain</th>\n",
       "      <th>x</th>\n",
       "      <th>y</th>\n",
       "      <th>kx</th>\n",
       "    </tr>\n",
       "  </thead>\n",
       "  <tbody>\n",
       "    <tr>\n",
       "      <th>19</th>\n",
       "      <td>0</td>\n",
       "      <td>113</td>\n",
       "      <td>1</td>\n",
       "      <td>645467.335014</td>\n",
       "      <td>4.255605e+06</td>\n",
       "      <td>14.48904</td>\n",
       "    </tr>\n",
       "  </tbody>\n",
       "</table>\n",
       "</div>"
      ],
      "text/plain": [
       "    layer  cell  idomain              x             y        kx\n",
       "19      0   113        1  645467.335014  4.255605e+06  14.48904"
      ]
     },
     "execution_count": 26,
     "metadata": {},
     "output_type": "execute_result"
    }
   ],
   "source": [
    "k_npf.loc[ k_npf['cell'] == 113 ]"
   ]
  },
  {
   "cell_type": "code",
   "execution_count": 19,
   "id": "2ce2bc6c-4031-45fc-9f02-7c0032a0dd97",
   "metadata": {},
   "outputs": [
    {
     "data": {
      "text/html": [
       "<div>\n",
       "<style scoped>\n",
       "    .dataframe tbody tr th:only-of-type {\n",
       "        vertical-align: middle;\n",
       "    }\n",
       "\n",
       "    .dataframe tbody tr th {\n",
       "        vertical-align: top;\n",
       "    }\n",
       "\n",
       "    .dataframe thead th {\n",
       "        text-align: right;\n",
       "    }\n",
       "</style>\n",
       "<table border=\"1\" class=\"dataframe\">\n",
       "  <thead>\n",
       "    <tr style=\"text-align: right;\">\n",
       "      <th></th>\n",
       "      <th>k</th>\n",
       "    </tr>\n",
       "  </thead>\n",
       "  <tbody>\n",
       "    <tr>\n",
       "      <th>0</th>\n",
       "      <td>10.623410</td>\n",
       "    </tr>\n",
       "    <tr>\n",
       "      <th>1</th>\n",
       "      <td>10.258310</td>\n",
       "    </tr>\n",
       "    <tr>\n",
       "      <th>2</th>\n",
       "      <td>9.898505</td>\n",
       "    </tr>\n",
       "    <tr>\n",
       "      <th>3</th>\n",
       "      <td>9.546693</td>\n",
       "    </tr>\n",
       "    <tr>\n",
       "      <th>4</th>\n",
       "      <td>9.205826</td>\n",
       "    </tr>\n",
       "  </tbody>\n",
       "</table>\n",
       "</div>"
      ],
      "text/plain": [
       "           k\n",
       "0  10.623410\n",
       "1  10.258310\n",
       "2   9.898505\n",
       "3   9.546693\n",
       "4   9.205826"
      ]
     },
     "execution_count": 19,
     "metadata": {},
     "output_type": "execute_result"
    }
   ],
   "source": [
    "file_array = r'E:\\LSGB\\20231117_JCUNVRS\\gwf\\gwf3_pest1\\arrays\\sc.Kx_1.arrays'\n",
    "\n",
    "# Nuevo nombre\n",
    "file_path = Path(file_array)\n",
    "new_filename = file_path.stem.replace('.', '_', 1)+'.csv'\n",
    "parent = Path(file_array).parent\n",
    "new_filepath = parent.joinpath(new_filename)\n",
    "shutil.copy2(file_array, new_filepath)\n",
    "\n",
    "k_array = pd.read_csv(new_filepath,header=None, names=['k'])\n",
    "k_array.head()"
   ]
  },
  {
   "cell_type": "code",
   "execution_count": 27,
   "id": "cdd9f482-d235-4e26-9364-f37e2c7ae708",
   "metadata": {},
   "outputs": [
    {
     "data": {
      "text/html": [
       "<div>\n",
       "<style scoped>\n",
       "    .dataframe tbody tr th:only-of-type {\n",
       "        vertical-align: middle;\n",
       "    }\n",
       "\n",
       "    .dataframe tbody tr th {\n",
       "        vertical-align: top;\n",
       "    }\n",
       "\n",
       "    .dataframe thead th {\n",
       "        text-align: right;\n",
       "    }\n",
       "</style>\n",
       "<table border=\"1\" class=\"dataframe\">\n",
       "  <thead>\n",
       "    <tr style=\"text-align: right;\">\n",
       "      <th></th>\n",
       "      <th>k</th>\n",
       "    </tr>\n",
       "  </thead>\n",
       "  <tbody>\n",
       "    <tr>\n",
       "      <th>113</th>\n",
       "      <td>14.48904</td>\n",
       "    </tr>\n",
       "  </tbody>\n",
       "</table>\n",
       "</div>"
      ],
      "text/plain": [
       "            k\n",
       "113  14.48904"
      ]
     },
     "execution_count": 27,
     "metadata": {},
     "output_type": "execute_result"
    }
   ],
   "source": [
    "k_array.loc[[113]]"
   ]
  },
  {
   "cell_type": "code",
   "execution_count": null,
   "id": "83346239-ccdd-41a2-82c6-143843b0ce9c",
   "metadata": {},
   "outputs": [],
   "source": []
  }
 ],
 "metadata": {
  "kernelspec": {
   "display_name": "Python 3 (ipykernel)",
   "language": "python",
   "name": "python3"
  },
  "language_info": {
   "codemirror_mode": {
    "name": "ipython",
    "version": 3
   },
   "file_extension": ".py",
   "mimetype": "text/x-python",
   "name": "python",
   "nbconvert_exporter": "python",
   "pygments_lexer": "ipython3",
   "version": "3.11.6"
  }
 },
 "nbformat": 4,
 "nbformat_minor": 5
}
