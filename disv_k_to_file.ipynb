{
 "cells": [
  {
   "cell_type": "markdown",
   "id": "afd46524-bced-4c75-920b-80dcbf788c9c",
   "metadata": {},
   "source": [
    "# Save calibrated hydraulic conductivity\n",
    "Reads hidraulic conductvities from a npf file saved by PEST. The saved file could be imported in ModelMuse<br>\n",
    "Ahora solo exporta una capa a la vez"
   ]
  },
  {
   "cell_type": "code",
   "execution_count": 28,
   "id": "67e29ff0-4be1-42d2-a92a-8a50f90312a9",
   "metadata": {},
   "outputs": [],
   "source": [
    "import flopy.mf6 as mf6\n",
    "import matplotlib.pyplot as plt\n",
    "from pathlib import Path"
   ]
  },
  {
   "cell_type": "code",
   "execution_count": 29,
   "id": "922ad6a1-343f-4d52-a856-66172abe2ebe",
   "metadata": {},
   "outputs": [],
   "source": [
    "def centroid_get(vertex_xy:[[]]):\n",
    "    cx = 0.\n",
    "    cy = 0.\n",
    "    n = len(vertex_xy)\n",
    "    for coordinate in vertex_xy:\n",
    "        cx += coordinate[0]\n",
    "        cy += coordinate[1]\n",
    "    return cx/n, cy/n\n",
    "\n",
    "def plot_shape(vertex_xy, point1):\n",
    "    \"\"\"\n",
    "    Plot the shape defined by the vertex_xy list and add the point1 to the shape.\n",
    "\n",
    "    Parameters:\n",
    "    vertex_xy (list): List of coordinates that define the shape.\n",
    "    point1 (tuple): Coordinate of the point to be added to the shape.\n",
    "\n",
    "    Returns:\n",
    "    Figure object containing the plot.\n",
    "    \"\"\"\n",
    "    fig, ax = plt.subplots()\n",
    "\n",
    "    x = []\n",
    "    y = []\n",
    "\n",
    "    for x_coord, y_coord in vertex_xy:\n",
    "        x.append(x_coord)\n",
    "        y.append(y_coord)\n",
    "\n",
    "    ax.plot(x, y, color='blue')\n",
    "    ax.scatter(x, y, marker='o', color='blue')\n",
    "\n",
    "    # Add point1 to the plot\n",
    "    ax.plot([point1[0]], [point1[1]], marker='o', color='red')\n",
    "\n",
    "    # Set aspect ratio and labels\n",
    "    ax.set_aspect('equal')\n",
    "    ax.set_xlabel('X Coordinate')\n",
    "    ax.set_ylabel('Y Coordinate')\n",
    "    ax.set_title('Shape Plot')\n",
    "\n",
    "    plt.show()\n"
   ]
  },
  {
   "cell_type": "markdown",
   "id": "45cd9cd4-2b8d-4e0b-b928-088d7773fc65",
   "metadata": {},
   "source": [
    "### Set variables"
   ]
  },
  {
   "cell_type": "code",
   "execution_count": 12,
   "id": "dabdd5a1-2eed-4509-ae5e-6f86f5656f44",
   "metadata": {},
   "outputs": [],
   "source": [
    "# model \n",
    "modelname = 'sc.nam'\n",
    "model_path = r'E:\\LSGB\\20231117_JCUNVRS\\gwf\\gwf3_pest1'\n",
    "model_path = Path(model_path)\n",
    "epsg_code = 25830\n",
    "\n",
    "# layer\n",
    "layer = 0\n",
    "\n",
    "# dir path to save k files\n",
    "dir_path = r'E:\\LSGB\\20231117_JCUNVRS\\gwf\\calibrations\\20240127a' \n",
    "dir_path = Path(dir_path)\n",
    "kx_name = 'kx.csv' \n",
    "ky_name = 'ky.csv'\n",
    "kz_name = 'kz.csv'\n",
    "\n",
    "# exports only active cells \n",
    "exp_only_grid_active = True\n",
    "\n",
    "# header\n",
    "write_header = True\n",
    "\n",
    "# ('point', 'ewkt_polygon')\n",
    "geometry = 'point'"
   ]
  },
  {
   "cell_type": "markdown",
   "id": "850481ce-1628-4531-8baa-c34af47e94b8",
   "metadata": {},
   "source": [
    "### Read for each simulation"
   ]
  },
  {
   "cell_type": "code",
   "execution_count": 7,
   "id": "678d8adc-cfc3-4bd4-a2c4-6f3abeb1854e",
   "metadata": {},
   "outputs": [
    {
     "name": "stdout",
     "output_type": "stream",
     "text": [
      "loading simulation...\n",
      "  loading simulation name file...\n",
      "  loading tdis package...\n",
      "  loading model gwf6...\n",
      "    loading package disv...\n",
      "WARNING: Unable to resolve dimension of ('gwf6', 'disv', 'cell2d', 'cell2d', 'icvert') based on shape \"ncvert\".\n",
      "    loading package ic...\n",
      "WARNING: Block \"options\" is not a valid block name for file type ic.\n",
      "    loading package npf...\n",
      "    loading package obs...\n",
      "    loading package gnc...\n",
      "    loading package oc...\n",
      "    loading package drn...\n",
      "    loading package rch...\n",
      "  loading solution package modflow...\n",
      "\n",
      "Model names in sim ['modflow']\n",
      "Packages: ['DISV', 'IC', 'NPF', 'OBS-1', 'GNC', 'OC', 'DRN-1', 'RCH-1']\n",
      "Number of layers: 1\n",
      "Number of cells: 2331\n",
      "Number of active cells: 1606\n"
     ]
    }
   ],
   "source": [
    "# my model\n",
    "sim = mf6.MFSimulation.load(sim_name=modelname, exe_name='mf6', sim_ws=model_path)\n",
    "\n",
    "model_names = list(sim.model_names)\n",
    "print('\\nModel names in sim', model_names)\n",
    "\n",
    "gwf = sim.get_model(model_names[0])\n",
    "\n",
    "# general information of my model\n",
    "package_list = gwf.get_package_list()\n",
    "print('Packages:', package_list)\n",
    "print('Number of layers:', gwf.dis.nlay.array)  # Number of layers\n",
    "print('Number of cells:', gwf.dis.ncpl.array)  # Number of cells per layer\n",
    "print('Number of active cells:',(gwf.dis.idomain.array > 0).sum())"
   ]
  },
  {
   "cell_type": "markdown",
   "id": "7f9e1a01-d4aa-478c-8fab-adb30077c470",
   "metadata": {},
   "source": [
    "### Lee y escribe los ficheros de conductividad hidráulica"
   ]
  },
  {
   "cell_type": "code",
   "execution_count": 13,
   "id": "c6e239cf-b0fa-4f86-a113-be1e3baf4812",
   "metadata": {},
   "outputs": [
    {
     "name": "stdout",
     "output_type": "stream",
     "text": [
      "First cell: [0, 608467.3350144, 4257604.522862, 4, 0, 1, 40, 39, None, None]\n"
     ]
    }
   ],
   "source": [
    "# Get the packages\n",
    "disv = gwf.get_package('disv')\n",
    "npf = gwf.get_package('npf')\n",
    "\n",
    "# idomain\n",
    "idomain = disv.idomain.array\n",
    "\n",
    "# cells\n",
    "cell2d = disv.cell2d.array\n",
    "\n",
    "# vertices\n",
    "vertices = disv.vertices.array\n",
    "\n",
    "# hydraulic conductivities\n",
    "k11 = npf.k.array\n",
    "k22 = npf.k22.array\n",
    "k33 = npf.k33.array\n",
    "\n",
    "header = 'layer,cell,idomain,x,y,k'\n",
    "kx_file = dir_path.joinpath(kx_name)\n",
    "ky_file = dir_path.joinpath(ky_name)\n",
    "kz_file = dir_path.joinpath(kz_name)\n",
    "\n",
    "with open(kx_file, 'w', encoding='utf8') as fkx, \\\n",
    "    open(ky_file, 'w', encoding='utf8') as fky, \\\n",
    "    open(kz_file, 'w', encoding='utf8') as fkz:\n",
    "    if write_header:\n",
    "        fkx.write(f'{header}x\\n')\n",
    "        fky.write(f'{header}y')\n",
    "        fkz.write(f'{header}z\\n')\n",
    "    for ic, cell in enumerate(cell2d):\n",
    "        lcell = list(cell)\n",
    "        # Number of vertices for the cell\n",
    "        num_vertices = lcell[3]\n",
    "        # Extract the vertex identifiers\n",
    "        vertex_ids = lcell[4:4 + num_vertices]\n",
    "        vertex_xy = [list(vertices[v1])[1:] for v1 in vertex_ids]\n",
    "        centroid = centroid_get(vertex_xy)\n",
    "        # Format coordinates as a string\n",
    "        coordinate_str = ', '.join([f'{x} {y}' for x, y in vertex_xy])\n",
    "        # Create EWKT representation\n",
    "        ewkt_representation = f'SRID={epsg_code};POLYGON(({coordinate_str}))'\n",
    "        if exp_only_grid_active:\n",
    "            if idomain[layer,lcell[0]] == 1:\n",
    "                write_cell= True\n",
    "            else:\n",
    "                write_cell = False\n",
    "        else:\n",
    "            write_cell = True\n",
    "        if write_cell:\n",
    "            if geometry == 'point':\n",
    "                fkx.write(f'{layer},{lcell[0]},{idomain[layer,lcell[0]]},{centroid[0]:f},{centroid[1]:f},{k11[layer,lcell[0]]:f}\\n')\n",
    "                fky.write(f'{layer},{lcell[0]},{idomain[layer,lcell[0]]},{centroid[0]:f},{centroid[1]:f},{k22[layer,lcell[0]]:f}\\n')\n",
    "                fkz.write(f'{layer},{lcell[0]},{idomain[layer,lcell[0]]},{centroid[0]:f},{centroid[1]:f},{k33[layer,lcell[0]]:f}\\n')\n",
    "            else:\n",
    "                fkx.write(f'{layer},{lcell[0]},{idomain[layer,lcell[0]]},{centroid[0]:f},{centroid[1]:f},{k11[layer,lcell[0]]:f}\\n')\n",
    "                fky.write(f'{layer},{lcell[0]},{idomain[layer,lcell[0]]},{centroid[0]:f},{centroid[1]:f},{k22[layer,lcell[0]]:f}\\n')\n",
    "                fkz.write(f'{layer},{lcell[0]},{idomain[layer,lcell[0]]},{centroid[0]:f},{centroid[1]:f},{k33[layer,lcell[0]]:f}\\n')\n"
   ]
  }
 ],
 "metadata": {
  "kernelspec": {
   "display_name": "Python 3 (ipykernel)",
   "language": "python",
   "name": "python3"
  },
  "language_info": {
   "codemirror_mode": {
    "name": "ipython",
    "version": 3
   },
   "file_extension": ".py",
   "mimetype": "text/x-python",
   "name": "python",
   "nbconvert_exporter": "python",
   "pygments_lexer": "ipython3",
   "version": "3.11.6"
  }
 },
 "nbformat": 4,
 "nbformat_minor": 5
}
