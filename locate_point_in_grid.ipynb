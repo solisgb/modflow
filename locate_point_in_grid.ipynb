{
 "cells": [
  {
   "cell_type": "code",
   "execution_count": 1,
   "id": "7f77095d-04be-4d52-9892-af57e3944142",
   "metadata": {},
   "outputs": [],
   "source": [
    "import flopy\n",
    "import flopy.mf6 as mf6\n",
    "import flopy.utils.binaryfile as bf"
   ]
  },
  {
   "cell_type": "code",
   "execution_count": 21,
   "id": "c5d1b9f5-a9fc-4ada-a7cc-18cc7aaa78bf",
   "metadata": {},
   "outputs": [],
   "source": [
    "modelname = 'Moncada.nam'  # replace with your model name\n",
    "model_ws = 'E:/Cursos/H2OGEO/2023_Modelacion_HGeo/Ej_2'  # replace with your model workspace"
   ]
  },
  {
   "cell_type": "code",
   "execution_count": 22,
   "id": "38d7d64b-ff05-42dd-8ccb-90335d7114e5",
   "metadata": {},
   "outputs": [
    {
     "name": "stdout",
     "output_type": "stream",
     "text": [
      "loading simulation...\n",
      "  loading simulation name file...\n",
      "  loading tdis package...\n",
      "  loading model gwf6...\n",
      "    loading package dis...\n",
      "    loading package ic...\n",
      "WARNING: Block \"options\" is not a valid block name for file type ic.\n",
      "    loading package npf...\n",
      "    loading package oc...\n",
      "    loading package chd...\n",
      "    loading package wel...\n",
      "    loading package riv...\n",
      "    loading package rch...\n",
      "  loading solution package modflow...\n",
      "['modflow']\n"
     ]
    }
   ],
   "source": [
    "# Load the MF6 model\n",
    "sim = flopy.mf6.MFSimulation.load(sim_name=modelname, exe_name='mf6', sim_ws=model_ws)\n",
    "model_names = list(sim.model_names)\n",
    "print(model_names)"
   ]
  },
  {
   "cell_type": "code",
   "execution_count": 15,
   "id": "bc06f2ad-0dcc-4c09-a593-4ab05cf6dede",
   "metadata": {},
   "outputs": [
    {
     "data": {
      "text/plain": [
       "flopy.mf6.modflow.mfgwf.ModflowGwf"
      ]
     },
     "execution_count": 15,
     "metadata": {},
     "output_type": "execute_result"
    }
   ],
   "source": [
    "gwf = sim.get_model(model_names[0])\n",
    "type(gwf)"
   ]
  },
  {
   "cell_type": "code",
   "execution_count": 16,
   "id": "a9b3639e-a0d7-4477-a935-34c31c8f2091",
   "metadata": {},
   "outputs": [
    {
     "data": {
      "text/plain": [
       "flopy.discretization.structuredgrid.StructuredGrid"
      ]
     },
     "execution_count": 16,
     "metadata": {},
     "output_type": "execute_result"
    }
   ],
   "source": [
    "# Get the spatial reference\n",
    "sr = gwf.modelgrid\n",
    "type(sr)"
   ]
  },
  {
   "cell_type": "code",
   "execution_count": 18,
   "id": "93428703-ef80-4430-9e1b-953af442ef0b",
   "metadata": {},
   "outputs": [
    {
     "name": "stdout",
     "output_type": "stream",
     "text": [
      "24 90\n"
     ]
    }
   ],
   "source": [
    "# Specify the coordinates of your point\n",
    "x = 432520   # replace with your point coordinates\n",
    "y = 4595200\n",
    "# Get the row and column of the point\n",
    "row, col = sr.intersect(x, y) \n",
    "print(row, col)"
   ]
  },
  {
   "cell_type": "code",
   "execution_count": null,
   "id": "6edd9ed7-eaea-4549-9c64-0944ce191a74",
   "metadata": {},
   "outputs": [],
   "source": []
  }
 ],
 "metadata": {
  "kernelspec": {
   "display_name": "Python 3 (ipykernel)",
   "language": "python",
   "name": "python3"
  },
  "language_info": {
   "codemirror_mode": {
    "name": "ipython",
    "version": 3
   },
   "file_extension": ".py",
   "mimetype": "text/x-python",
   "name": "python",
   "nbconvert_exporter": "python",
   "pygments_lexer": "ipython3",
   "version": "3.11.6"
  }
 },
 "nbformat": 4,
 "nbformat_minor": 5
}
