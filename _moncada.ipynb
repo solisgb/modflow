{
 "cells": [
  {
   "cell_type": "code",
   "execution_count": 7,
   "id": "7f77095d-04be-4d52-9892-af57e3944142",
   "metadata": {},
   "outputs": [],
   "source": [
    "import flopy\n",
    "import flopy.utils.binaryfile as bf"
   ]
  },
  {
   "cell_type": "code",
   "execution_count": 2,
   "id": "a55c6cf3-892f-4184-89ca-80f86b7f915e",
   "metadata": {},
   "outputs": [],
   "source": [
    "# Specify the name of your head file\n",
    "headfile = 'Moncada.bhd'  # replace 'modelname' with the name of your model\n",
    "\n",
    "# Create a headfile object\n",
    "headobj = bf.HeadFile(headfile)"
   ]
  },
  {
   "cell_type": "code",
   "execution_count": 3,
   "id": "609e4d51-4837-4906-b062-c06e2cc53185",
   "metadata": {},
   "outputs": [],
   "source": [
    "# Get all the times that heads were saved\n",
    "times = headobj.get_times()\n",
    "\n",
    "# Get the head data for the last saved time\n",
    "head = headobj.get_data(totim=times[-1])"
   ]
  },
  {
   "cell_type": "code",
   "execution_count": 4,
   "id": "28f3f805-ab1c-4500-914c-817dcf7679d3",
   "metadata": {},
   "outputs": [
    {
     "data": {
      "text/plain": [
       "(1, 248, 139)"
      ]
     },
     "execution_count": 4,
     "metadata": {},
     "output_type": "execute_result"
    }
   ],
   "source": [
    "head.shape"
   ]
  },
  {
   "cell_type": "code",
   "execution_count": 6,
   "id": "2899dc1c-b0f5-4ad0-8a97-aab97f72fd08",
   "metadata": {},
   "outputs": [
    {
     "data": {
      "text/plain": [
       "17.46961854052285"
      ]
     },
     "execution_count": 6,
     "metadata": {},
     "output_type": "execute_result"
    }
   ],
   "source": [
    "head[0,33,90]"
   ]
  },
  {
   "cell_type": "code",
   "execution_count": 16,
   "id": "eacfcdbf-0322-4c95-8f06-c82dd8771845",
   "metadata": {},
   "outputs": [
    {
     "ename": "NameError",
     "evalue": "name 'mf6' is not defined",
     "output_type": "error",
     "traceback": [
      "\u001b[1;31m---------------------------------------------------------------------------\u001b[0m",
      "\u001b[1;31mNameError\u001b[0m                                 Traceback (most recent call last)",
      "Cell \u001b[1;32mIn[16], line 4\u001b[0m\n\u001b[0;32m      2\u001b[0m modelname \u001b[38;5;241m=\u001b[39m \u001b[38;5;124m'\u001b[39m\u001b[38;5;124mmfsim.nam\u001b[39m\u001b[38;5;124m'\u001b[39m  \u001b[38;5;66;03m# replace with your model name\u001b[39;00m\n\u001b[0;32m      3\u001b[0m model_ws \u001b[38;5;241m=\u001b[39m \u001b[38;5;124m'\u001b[39m\u001b[38;5;124mE:/Cursos/H2OGEO/2023_Modelacion_HGeo/Ej_2\u001b[39m\u001b[38;5;124m'\u001b[39m  \u001b[38;5;66;03m# replace with your model workspace\u001b[39;00m\n\u001b[1;32m----> 4\u001b[0m sim \u001b[38;5;241m=\u001b[39m \u001b[43mmf6\u001b[49m\u001b[38;5;241m.\u001b[39mMFSimulation\u001b[38;5;241m.\u001b[39mload(sim_name\u001b[38;5;241m=\u001b[39mmodelname, exe_name\u001b[38;5;241m=\u001b[39m\u001b[38;5;124m'\u001b[39m\u001b[38;5;124mmf6\u001b[39m\u001b[38;5;124m'\u001b[39m, sim_ws\u001b[38;5;241m=\u001b[39mmodel_ws)\n\u001b[0;32m      5\u001b[0m \u001b[38;5;28mprint\u001b[39m(\u001b[38;5;124m'\u001b[39m\u001b[38;5;124msim has been set\u001b[39m\u001b[38;5;124m'\u001b[39m, \u001b[38;5;28mtype\u001b[39m(sim))\n\u001b[0;32m      7\u001b[0m \u001b[38;5;66;03m# Get the groundwater flow model\u001b[39;00m\n",
      "\u001b[1;31mNameError\u001b[0m: name 'mf6' is not defined"
     ]
    }
   ],
   "source": [
    "# Load your MODFLOW 6 model\n",
    "modelname = 'mfsim.nam'  # replace with your model name\n",
    "model_ws = 'E:/Cursos/H2OGEO/2023_Modelacion_HGeo/Ej_2'  # replace with your model workspace\n",
    "sim = mf6.MFSimulation.load(sim_name=modelname, exe_name='mf6', sim_ws=model_ws)\n",
    "print('sim has been set', type(sim))\n",
    "\n",
    "# Get the groundwater flow model\n",
    "gwf = sim.get_model(modelname)\n",
    "print('gwf has been set', type(gwf))\n",
    "\n",
    "# Get the spatial reference\n",
    "sr = gwf.modelgrid\n",
    "print('sr has been set', type(sr))"
   ]
  },
  {
   "cell_type": "code",
   "execution_count": null,
   "id": "38d7d64b-ff05-42dd-8ccb-90335d7114e5",
   "metadata": {},
   "outputs": [],
   "source": []
  }
 ],
 "metadata": {
  "kernelspec": {
   "display_name": "Python 3 (ipykernel)",
   "language": "python",
   "name": "python3"
  },
  "language_info": {
   "codemirror_mode": {
    "name": "ipython",
    "version": 3
   },
   "file_extension": ".py",
   "mimetype": "text/x-python",
   "name": "python",
   "nbconvert_exporter": "python",
   "pygments_lexer": "ipython3",
   "version": "3.12.0"
  }
 },
 "nbformat": 4,
 "nbformat_minor": 5
}
