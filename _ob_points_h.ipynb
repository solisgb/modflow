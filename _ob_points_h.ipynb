{
 "cells": [
  {
   "cell_type": "markdown",
   "id": "9dbb422a-a6f4-496e-88de-d5daa19d4a3d",
   "metadata": {},
   "source": [
    "# MF6. Relación entre niveles medidos y calculados"
   ]
  },
  {
   "cell_type": "code",
   "execution_count": 18,
   "id": "d8ebc634-1d1e-4a2a-833b-097e03437c2b",
   "metadata": {},
   "outputs": [],
   "source": [
    "import flopy.mf6 as mf6\n",
    "import flopy.utils.binaryfile as bf\n",
    "import matplotlib.pyplot as plt\n",
    "import numpy as np\n",
    "import pandas as pd"
   ]
  },
  {
   "cell_type": "markdown",
   "id": "c8d064b0-7a23-4273-811a-8ab6f210fedd",
   "metadata": {},
   "source": [
    "## Lectura del fichero con los niveles medidos en sondeos\n",
    "(puntos de observación)\n",
    "* Todos los sondeos están dentro del dominio del modelo.\n",
    "* En este caso los tengo guardados en un fichero csv. "
   ]
  },
  {
   "cell_type": "code",
   "execution_count": 19,
   "id": "424b8366-8f5a-49b5-8b16-037dd0208858",
   "metadata": {},
   "outputs": [
    {
     "data": {
      "text/html": [
       "<div>\n",
       "<style scoped>\n",
       "    .dataframe tbody tr th:only-of-type {\n",
       "        vertical-align: middle;\n",
       "    }\n",
       "\n",
       "    .dataframe tbody tr th {\n",
       "        vertical-align: top;\n",
       "    }\n",
       "\n",
       "    .dataframe thead th {\n",
       "        text-align: right;\n",
       "    }\n",
       "</style>\n",
       "<table border=\"1\" class=\"dataframe\">\n",
       "  <thead>\n",
       "    <tr style=\"text-align: right;\">\n",
       "      <th></th>\n",
       "      <th>sondeo</th>\n",
       "      <th>x</th>\n",
       "      <th>y</th>\n",
       "      <th>z</th>\n",
       "      <th>cnp</th>\n",
       "      <th>pnp</th>\n",
       "      <th>prof</th>\n",
       "      <th>campanya</th>\n",
       "      <th>anyo_lectura</th>\n",
       "      <th>observacio</th>\n",
       "    </tr>\n",
       "  </thead>\n",
       "  <tbody>\n",
       "    <tr>\n",
       "      <th>0</th>\n",
       "      <td>SM1</td>\n",
       "      <td>432119.530805</td>\n",
       "      <td>4.591804e+06</td>\n",
       "      <td>30.309</td>\n",
       "      <td>21.809</td>\n",
       "      <td>8.5</td>\n",
       "      <td>25.0</td>\n",
       "      <td>&lt; 2001</td>\n",
       "      <td>1999</td>\n",
       "      <td>NaN</td>\n",
       "    </tr>\n",
       "    <tr>\n",
       "      <th>1</th>\n",
       "      <td>SM3</td>\n",
       "      <td>432140.914559</td>\n",
       "      <td>4.591997e+06</td>\n",
       "      <td>30.465</td>\n",
       "      <td>22.965</td>\n",
       "      <td>7.5</td>\n",
       "      <td>23.0</td>\n",
       "      <td>&lt; 2001</td>\n",
       "      <td>2005</td>\n",
       "      <td>NaN</td>\n",
       "    </tr>\n",
       "    <tr>\n",
       "      <th>2</th>\n",
       "      <td>SM5</td>\n",
       "      <td>432166.579268</td>\n",
       "      <td>4.592210e+06</td>\n",
       "      <td>31.177</td>\n",
       "      <td>24.177</td>\n",
       "      <td>7.0</td>\n",
       "      <td>18.5</td>\n",
       "      <td>&lt; 2001</td>\n",
       "      <td>1999</td>\n",
       "      <td>NaN</td>\n",
       "    </tr>\n",
       "    <tr>\n",
       "      <th>3</th>\n",
       "      <td>SM6</td>\n",
       "      <td>432189.567023</td>\n",
       "      <td>4.592317e+06</td>\n",
       "      <td>32.000</td>\n",
       "      <td>24.500</td>\n",
       "      <td>7.5</td>\n",
       "      <td>20.0</td>\n",
       "      <td>&lt; 2001</td>\n",
       "      <td>1999</td>\n",
       "      <td>NaN</td>\n",
       "    </tr>\n",
       "    <tr>\n",
       "      <th>4</th>\n",
       "      <td>SM20</td>\n",
       "      <td>432094.682088</td>\n",
       "      <td>4.591598e+06</td>\n",
       "      <td>29.255</td>\n",
       "      <td>21.255</td>\n",
       "      <td>8.0</td>\n",
       "      <td>26.0</td>\n",
       "      <td>&lt; 2001</td>\n",
       "      <td>1990</td>\n",
       "      <td>NaN</td>\n",
       "    </tr>\n",
       "  </tbody>\n",
       "</table>\n",
       "</div>"
      ],
      "text/plain": [
       "  sondeo              x             y       z     cnp  pnp  prof campanya  \\\n",
       "0    SM1  432119.530805  4.591804e+06  30.309  21.809  8.5  25.0   < 2001   \n",
       "1    SM3  432140.914559  4.591997e+06  30.465  22.965  7.5  23.0   < 2001   \n",
       "2    SM5  432166.579268  4.592210e+06  31.177  24.177  7.0  18.5   < 2001   \n",
       "3    SM6  432189.567023  4.592317e+06  32.000  24.500  7.5  20.0   < 2001   \n",
       "4   SM20  432094.682088  4.591598e+06  29.255  21.255  8.0  26.0   < 2001   \n",
       "\n",
       "   anyo_lectura observacio  \n",
       "0          1999        NaN  \n",
       "1          2005        NaN  \n",
       "2          1999        NaN  \n",
       "3          1999        NaN  \n",
       "4          1990        NaN  "
      ]
     },
     "execution_count": 19,
     "metadata": {},
     "output_type": "execute_result"
    }
   ],
   "source": [
    "fpath = r'E:\\Cursos\\H2OGEO\\2023_Modelacion_HGeo\\Ej_2\\Niveles\\_niveles_epsg25831_in_domain.csv'\n",
    "df = pd.read_csv(fpath) \n",
    "df.head()"
   ]
  },
  {
   "cell_type": "markdown",
   "id": "15305a39-d8ce-4cf2-a99d-9814d9cd7e8b",
   "metadata": {},
   "source": [
    "## Rejilla del modelo"
   ]
  },
  {
   "cell_type": "code",
   "execution_count": 20,
   "id": "7eab5d85-fc7d-464e-b242-734b40725db7",
   "metadata": {},
   "outputs": [],
   "source": [
    "modelname = 'Moncada.nam'\n",
    "model_ws = 'E:/Cursos/H2OGEO/2023_Modelacion_HGeo/Ej_2'\n",
    "length_unit = 'm'"
   ]
  },
  {
   "cell_type": "code",
   "execution_count": 21,
   "id": "aaa5c5d6-2de7-499d-bbb7-1ff26cb4a3f4",
   "metadata": {},
   "outputs": [
    {
     "name": "stdout",
     "output_type": "stream",
     "text": [
      "loading simulation...\n",
      "  loading simulation name file...\n",
      "  loading tdis package...\n",
      "  loading model gwf6...\n",
      "    loading package dis...\n",
      "    loading package ic...\n",
      "WARNING: Block \"options\" is not a valid block name for file type ic.\n",
      "    loading package npf...\n",
      "    loading package oc...\n",
      "    loading package chd...\n",
      "    loading package wel...\n",
      "    loading package riv...\n",
      "    loading package rch...\n",
      "  loading solution package modflow...\n",
      "model names in sim ['modflow']\n",
      "gwf obj <class 'flopy.mf6.modflow.mfgwf.ModflowGwf'>\n",
      "model grid <class 'flopy.discretization.structuredgrid.StructuredGrid'>\n"
     ]
    }
   ],
   "source": [
    "sim = mf6.MFSimulation.load(sim_name=modelname, exe_name='mf6', sim_ws=model_ws)\n",
    "model_names = list(sim.model_names)\n",
    "print('model names in sim', model_names)\n",
    "\n",
    "gwf = sim.get_model(model_names[0])\n",
    "print('gwf obj', type(gwf))\n",
    "\n",
    "# model grid\n",
    "sr = gwf.modelgrid\n",
    "print('model grid', type(sr))"
   ]
  },
  {
   "cell_type": "markdown",
   "id": "4d5223a8-33ac-4a9b-a7c1-bf68a14d06e1",
   "metadata": {},
   "source": [
    "## Lectura de los h simulados del modelo (estacionario)"
   ]
  },
  {
   "cell_type": "code",
   "execution_count": 22,
   "id": "c0552747-106a-496c-b344-7800b8009141",
   "metadata": {},
   "outputs": [
    {
     "name": "stdout",
     "output_type": "stream",
     "text": [
      "head obj <class 'flopy.utils.binaryfile.HeadFile'>\n",
      "Simulated heads <class 'numpy.ndarray'> (1, 248, 139)\n"
     ]
    }
   ],
   "source": [
    "headfile = 'Moncada.bhd'\n",
    "\n",
    "# Create a headfile object\n",
    "headobj = bf.HeadFile(headfile)\n",
    "print('head obj',type(headobj))\n",
    "\n",
    "# Get all the times that heads were saved\n",
    "times = headobj.get_times()\n",
    "\n",
    "# Get the head data for the last saved time\n",
    "head = headobj.get_data(totim=times[-1])\n",
    "print('Simulated heads', type(head), head.shape)"
   ]
  },
  {
   "cell_type": "markdown",
   "id": "334bd832-ebc5-45cb-b76a-d05b57775fca",
   "metadata": {},
   "source": [
    "## Asociar a cada sondeo la h simulada y cálculo de RMSE  "
   ]
  },
  {
   "cell_type": "code",
   "execution_count": 23,
   "id": "2d872c2f-b19b-471b-a155-d0218c68aaa9",
   "metadata": {},
   "outputs": [
    {
     "name": "stdout",
     "output_type": "stream",
     "text": [
      "Root Mean Squared Error (RMSE): 2.55669803414342 m\n"
     ]
    },
    {
     "data": {
      "text/html": [
       "<div>\n",
       "<style scoped>\n",
       "    .dataframe tbody tr th:only-of-type {\n",
       "        vertical-align: middle;\n",
       "    }\n",
       "\n",
       "    .dataframe tbody tr th {\n",
       "        vertical-align: top;\n",
       "    }\n",
       "\n",
       "    .dataframe thead th {\n",
       "        text-align: right;\n",
       "    }\n",
       "</style>\n",
       "<table border=\"1\" class=\"dataframe\">\n",
       "  <thead>\n",
       "    <tr style=\"text-align: right;\">\n",
       "      <th></th>\n",
       "      <th>sondeo</th>\n",
       "      <th>cnp</th>\n",
       "      <th>h_sim</th>\n",
       "      <th>er</th>\n",
       "    </tr>\n",
       "  </thead>\n",
       "  <tbody>\n",
       "    <tr>\n",
       "      <th>0</th>\n",
       "      <td>SM1</td>\n",
       "      <td>21.809</td>\n",
       "      <td>22.948834</td>\n",
       "      <td>-1.139834</td>\n",
       "    </tr>\n",
       "    <tr>\n",
       "      <th>1</th>\n",
       "      <td>SM3</td>\n",
       "      <td>22.965</td>\n",
       "      <td>23.595788</td>\n",
       "      <td>-0.630788</td>\n",
       "    </tr>\n",
       "    <tr>\n",
       "      <th>2</th>\n",
       "      <td>SM5</td>\n",
       "      <td>24.177</td>\n",
       "      <td>24.296957</td>\n",
       "      <td>-0.119957</td>\n",
       "    </tr>\n",
       "    <tr>\n",
       "      <th>3</th>\n",
       "      <td>SM6</td>\n",
       "      <td>24.500</td>\n",
       "      <td>24.585883</td>\n",
       "      <td>-0.085883</td>\n",
       "    </tr>\n",
       "    <tr>\n",
       "      <th>4</th>\n",
       "      <td>SM20</td>\n",
       "      <td>21.255</td>\n",
       "      <td>22.185059</td>\n",
       "      <td>-0.930059</td>\n",
       "    </tr>\n",
       "  </tbody>\n",
       "</table>\n",
       "</div>"
      ],
      "text/plain": [
       "  sondeo     cnp      h_sim        er\n",
       "0    SM1  21.809  22.948834 -1.139834\n",
       "1    SM3  22.965  23.595788 -0.630788\n",
       "2    SM5  24.177  24.296957 -0.119957\n",
       "3    SM6  24.500  24.585883 -0.085883\n",
       "4   SM20  21.255  22.185059 -0.930059"
      ]
     },
     "execution_count": 23,
     "metadata": {},
     "output_type": "execute_result"
    }
   ],
   "source": [
    "layer = 0  # upper layer\n",
    "h_sim = []\n",
    "\n",
    "for index, row in df.iterrows():\n",
    "    sondeo = row['sondeo']\n",
    "    x = row['x']\n",
    "    y = row['y']\n",
    "    cnp = row['cnp']\n",
    "    row, col = sr.intersect(x, y)\n",
    "    h1 = head[0, row, col]\n",
    "    h_sim.append(h1)\n",
    "\n",
    "df['h_sim'] = h_sim\n",
    "df['er'] = df['cnp'] - df['h_sim']\n",
    "mse = ((df['er'])**2).mean()\n",
    "rmse = np.sqrt(mse)\n",
    "print(f'Root Mean Squared Error (RMSE): {rmse} {length_unit}')\n",
    "\n",
    "result = df[['sondeo', 'cnp', 'h_sim', 'er']]\n",
    "result.head()"
   ]
  },
  {
   "cell_type": "code",
   "execution_count": 24,
   "id": "c9de20ec-0e2e-45e5-8f89-845903f23feb",
   "metadata": {},
   "outputs": [
    {
     "data": {
      "text/html": [
       "<div>\n",
       "<style scoped>\n",
       "    .dataframe tbody tr th:only-of-type {\n",
       "        vertical-align: middle;\n",
       "    }\n",
       "\n",
       "    .dataframe tbody tr th {\n",
       "        vertical-align: top;\n",
       "    }\n",
       "\n",
       "    .dataframe thead th {\n",
       "        text-align: right;\n",
       "    }\n",
       "</style>\n",
       "<table border=\"1\" class=\"dataframe\">\n",
       "  <thead>\n",
       "    <tr style=\"text-align: right;\">\n",
       "      <th></th>\n",
       "      <th>sondeo</th>\n",
       "      <th>cnp</th>\n",
       "      <th>h_sim</th>\n",
       "      <th>er</th>\n",
       "    </tr>\n",
       "  </thead>\n",
       "  <tbody>\n",
       "    <tr>\n",
       "      <th>0</th>\n",
       "      <td>SM1</td>\n",
       "      <td>21.809</td>\n",
       "      <td>22.948834</td>\n",
       "      <td>-1.139834</td>\n",
       "    </tr>\n",
       "    <tr>\n",
       "      <th>1</th>\n",
       "      <td>SM3</td>\n",
       "      <td>22.965</td>\n",
       "      <td>23.595788</td>\n",
       "      <td>-0.630788</td>\n",
       "    </tr>\n",
       "    <tr>\n",
       "      <th>2</th>\n",
       "      <td>SM5</td>\n",
       "      <td>24.177</td>\n",
       "      <td>24.296957</td>\n",
       "      <td>-0.119957</td>\n",
       "    </tr>\n",
       "    <tr>\n",
       "      <th>3</th>\n",
       "      <td>SM6</td>\n",
       "      <td>24.500</td>\n",
       "      <td>24.585883</td>\n",
       "      <td>-0.085883</td>\n",
       "    </tr>\n",
       "    <tr>\n",
       "      <th>4</th>\n",
       "      <td>SM20</td>\n",
       "      <td>21.255</td>\n",
       "      <td>22.185059</td>\n",
       "      <td>-0.930059</td>\n",
       "    </tr>\n",
       "  </tbody>\n",
       "</table>\n",
       "</div>"
      ],
      "text/plain": [
       "  sondeo     cnp      h_sim        er\n",
       "0    SM1  21.809  22.948834 -1.139834\n",
       "1    SM3  22.965  23.595788 -0.630788\n",
       "2    SM5  24.177  24.296957 -0.119957\n",
       "3    SM6  24.500  24.585883 -0.085883\n",
       "4   SM20  21.255  22.185059 -0.930059"
      ]
     },
     "execution_count": 24,
     "metadata": {},
     "output_type": "execute_result"
    }
   ],
   "source": [
    "result.head(5)"
   ]
  },
  {
   "cell_type": "markdown",
   "id": "a084c0ce-77ba-472b-b31c-b6ecec4eb5dc",
   "metadata": {},
   "source": [
    "## Plot h medida versus calculada"
   ]
  },
  {
   "cell_type": "code",
   "execution_count": 25,
   "id": "83024760-a115-4f29-8de8-480bd2b0009f",
   "metadata": {},
   "outputs": [
    {
     "data": {
      "image/png": "[encoded data removed]",
      "text/plain": [
       "<Figure size 640x480 with 1 Axes>"
      ]
     },
     "metadata": {},
     "output_type": "display_data"
    }
   ],
   "source": [
    "file_plot = './calibra_estacionario/h_observ_vs_calculada.png'\n",
    "\n",
    "fig, ax = plt.subplots()\n",
    "\n",
    "# Scatter plot\n",
    "ax.scatter(df['cnp'], df['h_sim'], label=f'RMSE {rmse}')\n",
    "\n",
    "# Diagonal line (1 to 1 ratio)\n",
    "ax.plot([0., df['cnp'].max()], [0., df['cnp'].max()], \n",
    "        color='red', linestyle='--')\n",
    "\n",
    "# Set plot title and axis labels\n",
    "ax.set_title('H medida y calculada en los puntos de observación')\n",
    "ax.set_xlabel(f'h medidos ({length_unit})')\n",
    "ax.set_ylabel(f'h calculados ({length_unit})')\n",
    "\n",
    "# Display legend\n",
    "ax.legend()\n",
    "ax.grid()\n",
    "\n",
    "fig.savefig(file_plot)\n",
    "\n",
    "# Show the plot\n",
    "plt.show()\n"
   ]
  },
  {
   "cell_type": "code",
   "execution_count": null,
   "id": "b1341f3c-1757-44b2-9651-f906c8ade8ff",
   "metadata": {},
   "outputs": [],
   "source": []
  }
 ],
 "metadata": {
  "kernelspec": {
   "display_name": "Python 3 (ipykernel)",
   "language": "python",
   "name": "python3"
  },
  "language_info": {
   "codemirror_mode": {
    "name": "ipython",
    "version": 3
   },
   "file_extension": ".py",
   "mimetype": "text/x-python",
   "name": "python",
   "nbconvert_exporter": "python",
   "pygments_lexer": "ipython3",
   "version": "3.12.0"
  }
 },
 "nbformat": 4,
 "nbformat_minor": 5
}
