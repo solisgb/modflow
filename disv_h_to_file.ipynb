{
 "cells": [
  {
   "cell_type": "markdown",
   "id": "bdeeb7a0-592b-4c72-b210-6686fcb5518b",
   "metadata": {},
   "source": [
    "# Export simulated h for a MODFLOW 6 model with DISV grid to CSV point file \n",
    "Exports the simulated heads and create a csv file for each layer and for each time. The columns in the csv files are:\n",
    "`layer,time,cell,x,y,h`<br>\n",
    "These files can be imported in QGIS as csv files"
   ]
  },
  {
   "cell_type": "code",
   "execution_count": 1,
   "id": "77fe88fa-f0e1-411c-845f-580eb7a7c1a5",
   "metadata": {},
   "outputs": [],
   "source": [
    "import flopy.mf6 as mf6\n",
    "import flopy.utils.binaryfile as bf\n",
    "import matplotlib.pyplot as plt\n",
    "import numpy as np\n",
    "from pathlib import Path"
   ]
  },
  {
   "cell_type": "markdown",
   "id": "f3024ce8-c55b-4e83-86e0-a302abfb8c78",
   "metadata": {},
   "source": [
    "## Functions"
   ]
  },
  {
   "cell_type": "code",
   "execution_count": 2,
   "id": "7a32a2b8-e341-4e71-a358-ebe029747567",
   "metadata": {},
   "outputs": [],
   "source": [
    "def centroid_get(vertex_xy:[[]]):\n",
    "    cx = 0.\n",
    "    cy = 0.\n",
    "    n = len(vertex_xy)\n",
    "    for coordinate in vertex_xy:\n",
    "        cx += coordinate[0]\n",
    "        cy += coordinate[1]\n",
    "    return cx/n, cy/n\n"
   ]
  },
  {
   "cell_type": "markdown",
   "id": "414221c7-fa55-42f2-8ba2-8a92795f74a2",
   "metadata": {},
   "source": [
    "## Set variables"
   ]
  },
  {
   "cell_type": "code",
   "execution_count": 22,
   "id": "29de60d9-3973-4013-9d68-7dcd2f350770",
   "metadata": {},
   "outputs": [],
   "source": [
    "modelname = 'sc.nam'\n",
    "model_path = r'E:\\LSGB\\20231117_JCUNVRS\\gwf\\gwf4_pest'\n",
    "model_path = Path(model_path)\n",
    "# number of layers; if layer < 0, h will be extracted for all layeres\n",
    "layer = 0\n",
    "epsg_code = 25830\n",
    "\n",
    "# head file to be read\n",
    "bh_file = model_path.joinpath(modelname)\n",
    "bh_file = bh_file.with_suffix('.bhd')\n",
    "\n",
    "# output path\n",
    "dir_output = r'E:\\LSGB\\20231117_JCUNVRS\\gwf\\tmp'\n",
    "dir_output = Path(dir_output)\n"
   ]
  },
  {
   "cell_type": "markdown",
   "id": "2fee4bef-ad46-4bc2-a9e4-dbac5b19926e",
   "metadata": {},
   "source": [
    "## Simulation"
   ]
  },
  {
   "cell_type": "code",
   "execution_count": 4,
   "id": "41cc905b-e641-464a-85b2-2ab8a8c6e752",
   "metadata": {},
   "outputs": [
    {
     "name": "stdout",
     "output_type": "stream",
     "text": [
      "loading simulation...\n",
      "  loading simulation name file...\n",
      "  loading tdis package...\n",
      "  loading model gwf6...\n",
      "    loading package disv...\n",
      "WARNING: Unable to resolve dimension of ('gwf6', 'disv', 'cell2d', 'cell2d', 'icvert') based on shape \"ncvert\".\n",
      "    loading package ic...\n",
      "WARNING: Block \"options\" is not a valid block name for file type ic.\n",
      "    loading package npf...\n",
      "    loading package obs...\n",
      "    loading package gnc...\n",
      "    loading package oc...\n",
      "    loading package drn...\n",
      "    loading package rch...\n",
      "  loading solution package modflow...\n",
      "\n",
      "Model names in sim ['modflow']\n",
      "Packages: ['DISV', 'IC', 'NPF', 'OBS-1', 'GNC', 'OC', 'DRN-1', 'RCH-1']\n",
      "Number of layers: 1\n",
      "Number of cells: 2331\n",
      "Number of cells per layer: 2331.0\n",
      "Number of active cells: 1608\n"
     ]
    }
   ],
   "source": [
    "sim = mf6.MFSimulation.load(sim_name=modelname, exe_name='mf6', sim_ws=model_path)\n",
    "\n",
    "model_names = list(sim.model_names)\n",
    "print('\\nModel names in sim', model_names)\n",
    "\n",
    "gwf = sim.get_model(model_names[0])\n",
    "\n",
    "# general information of my model\n",
    "package_list = gwf.get_package_list()\n",
    "print('Packages:', package_list)\n",
    "nlayers = gwf.dis.nlay.array\n",
    "print('Number of layers:', gwf.dis.nlay.array)  # Number of layers\n",
    "ncells = gwf.dis.ncpl.array\n",
    "print('Number of cells:', gwf.dis.ncpl.array)  # Number of cells per layer\n",
    "ncells_per_layer = ncells / nlayers\n",
    "print('Number of cells per layer:',ncells_per_layer)\n",
    "ncells_per_layer = int(ncells_per_layer)\n",
    "print('Number of active cells:',(gwf.dis.idomain.array > 0).sum())"
   ]
  },
  {
   "cell_type": "markdown",
   "id": "a935b07f-78f2-41a0-8713-932934aa4c77",
   "metadata": {},
   "source": [
    "## Get the required packages"
   ]
  },
  {
   "cell_type": "code",
   "execution_count": 5,
   "id": "a89129e5-277c-45e5-b3aa-a758e081e81e",
   "metadata": {},
   "outputs": [
    {
     "name": "stdout",
     "output_type": "stream",
     "text": [
      "Times number 1\n",
      "1.0\n"
     ]
    }
   ],
   "source": [
    "disv = gwf.get_package('disv')\n",
    "# idomain\n",
    "idomain = disv.idomain.array\n",
    "# cells\n",
    "cell2d = disv.cell2d.array\n",
    "# vertices\n",
    "vertices = disv.vertices.array\n",
    "# heads\n",
    "heads = bf.HeadFile(bh_file)\n",
    "# get all times\n",
    "times = heads.get_times()\n",
    "print('Times number', len(times))\n",
    "for time1 in times:\n",
    "    print(time1)\n"
   ]
  },
  {
   "cell_type": "markdown",
   "id": "b013ff76-f6ca-4a04-aee9-65fd2fbbda94",
   "metadata": {},
   "source": [
    "## Writes a file for each layer and time"
   ]
  },
  {
   "cell_type": "code",
   "execution_count": 30,
   "id": "4ea9eed3-76ce-4934-b651-956de0808468",
   "metadata": {},
   "outputs": [
    {
     "name": "stdout",
     "output_type": "stream",
     "text": [
      "First cell: [0, 608467.3350144, 4257604.522862, 4, 0, 1, 40, 39, None, None]\n"
     ]
    }
   ],
   "source": [
    "active_cells = [] # True if active, False if inactive\n",
    "id_cells = [] # cells id\n",
    "xyc_cells = [] # centroid coordinates of the cell as a string\n",
    "for ic, cell in enumerate(cell2d):\n",
    "    lcell = list(cell)\n",
    "    if ic == 0:\n",
    "        print('First cell:',lcell)\n",
    "    id_cells.append(lcell[0])\n",
    "    if idomain[layer,lcell[0]] == 1:\n",
    "        active_cells.append(True)\n",
    "        num_vertices = lcell[3]\n",
    "        vertex_ids = lcell[4:4 + num_vertices]\n",
    "        vertex_xy = [list(vertices[v1])[1:] for v1 in vertex_ids]\n",
    "        xc, yc = centroid_get(vertex_xy)  \n",
    "        coordinate_str = f'{xc:f},{yc:f}'\n",
    "        xyc_cells.append(coordinate_str)\n",
    "    else:\n",
    "        active_cells.append(False)\n",
    "        xyc_cells.append('')\n",
    "\n",
    "if ncells != len(active_cells) or ncells != len(id_cells) or ncells != len(xyc_cells):\n",
    "    raise ValueError(f'The number of elements in each array must be {ncells}')\n",
    "\n",
    "if len(active_cells) % ncells_per_layer != 0:\n",
    "    raise ValueError(f\"ncells_per_layer ({ncells_per_layer}) must be an integer multiple of len(active_cells) ({len(active_cells)})\")\n",
    "\n",
    "active_cells_layer =  [active_cells[i:i + ncells_per_layer] for i in range(0, ncells, ncells_per_layer)]\n",
    "id_cells_layer =  [id_cells[i:i + ncells_per_layer] for i in range(0, ncells, ncells_per_layer)]\n",
    "xyc_cells_layer = [xyc_cells[i:i + ncells_per_layer] for i in range(0, ncells, ncells_per_layer)]\n",
    "\n",
    "header='layer,time,cell_id,x,y,h'\n",
    "\n",
    "if layer < 0 or layer > nlayers:\n",
    "    layers = [i for i in range(nlayers)]\n",
    "else:\n",
    "    layers = [layer,]\n",
    "\n",
    "for time1 in times:\n",
    "    time1 = int(time1)\n",
    "    for layer1 in layers:\n",
    "        ofile_name = f'heads_layer_{layer1}_time_{int(time1)}.csv'\n",
    "        ofile_path = dir_output.joinpath(ofile_name)\n",
    "        with open(ofile_path, 'w', encoding='utf8') as fo: \n",
    "            fo.write(f'{header}\\n')\n",
    "            # Get the data for the specified layer and time\n",
    "            heads_at_time = heads.get_data(totim=time1, mflay=layer1)\n",
    "            heads_in_layer = heads_at_time[0] \n",
    "            for i, is_active in enumerate(active_cells_layer[layer1]):\n",
    "                if not is_active:\n",
    "                    continue\n",
    "                fo.write(f'{layer1},{time1},{id_cells_layer[layer1][i]},{xyc_cells_layer[layer1][i]},{heads_in_layer[i]:f}\\n')\n"
   ]
  },
  {
   "cell_type": "code",
   "execution_count": 29,
   "id": "4a709730-5f39-4ee8-841c-6dbeb4185fb6",
   "metadata": {},
   "outputs": [],
   "source": []
  }
 ],
 "metadata": {
  "kernelspec": {
   "display_name": "Python 3 (ipykernel)",
   "language": "python",
   "name": "python3"
  },
  "language_info": {
   "codemirror_mode": {
    "name": "ipython",
    "version": 3
   },
   "file_extension": ".py",
   "mimetype": "text/x-python",
   "name": "python",
   "nbconvert_exporter": "python",
   "pygments_lexer": "ipython3",
   "version": "3.11.6"
  }
 },
 "nbformat": 4,
 "nbformat_minor": 5
}
