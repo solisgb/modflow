{
 "cells": [
  {
   "cell_type": "markdown",
   "id": "d4cd8ca9-1b78-4b79-8858-1549a75f8bbd",
   "metadata": {},
   "source": [
    "# Export a DISV grid to CSV with the geometry column as EWKT\n",
    "For each cell, cell identifier, activation status and geometry as EWKT is exported"
   ]
  },
  {
   "cell_type": "code",
   "execution_count": 2,
   "id": "1050401f-68ab-43cb-95f3-0cdcfb993b66",
   "metadata": {},
   "outputs": [],
   "source": [
    "import flopy.mf6 as mf6\n",
    "import numpy as np\n",
    "from pathlib import Path"
   ]
  },
  {
   "cell_type": "code",
   "execution_count": 4,
   "id": "8d8a51ca-9747-4435-9065-7160b10850d1",
   "metadata": {},
   "outputs": [],
   "source": [
    "modelname = 'sc.nam'\n",
    "model_path = r'E:\\LSGB\\20231117_JCUNVRS\\gwf\\gwf3_pest1'\n",
    "model_path = Path(model_ws)\n",
    "layer = 0\n",
    "\n",
    "grid_file = r'E:\\LSGB\\20231117_JCUNVRS\\gwf\\calibrations\\20240117a\\grid.csv'\n",
    "\n",
    "epsg_code = 25830\n",
    "\n",
    "# exports only active cells \n",
    "exp_only_grid_active = False"
   ]
  },
  {
   "cell_type": "code",
   "execution_count": 5,
   "id": "9fa7d518-d087-4b93-9777-7be177d611fe",
   "metadata": {},
   "outputs": [
    {
     "name": "stdout",
     "output_type": "stream",
     "text": [
      "loading simulation...\n",
      "  loading simulation name file...\n",
      "  loading tdis package...\n",
      "  loading model gwf6...\n",
      "    loading package disv...\n",
      "WARNING: Unable to resolve dimension of ('gwf6', 'disv', 'cell2d', 'cell2d', 'icvert') based on shape \"ncvert\".\n",
      "    loading package ic...\n",
      "WARNING: Block \"options\" is not a valid block name for file type ic.\n",
      "    loading package npf...\n",
      "    loading package obs...\n",
      "    loading package gnc...\n",
      "    loading package oc...\n",
      "    loading package drn...\n",
      "    loading package rch...\n",
      "  loading solution package modflow...\n",
      "\n",
      "Model names in sim ['modflow']\n",
      "Packages: ['DISV', 'IC', 'NPF', 'OBS-1', 'GNC', 'OC', 'DRN-1', 'RCH-1']\n",
      "Number of layers: 1\n",
      "Number of cells: 2331\n",
      "Number of active cells: 1606\n"
     ]
    }
   ],
   "source": [
    "# gwf is instantiated and some basic features are shown\n",
    "sim = mf6.MFSimulation.load(sim_name=modelname, exe_name='mf6', sim_ws=model_path)\n",
    "\n",
    "model_names = list(sim.model_names)\n",
    "print('\\nModel names in sim', model_names)\n",
    "\n",
    "gwf = sim.get_model(model_names[0])\n",
    "\n",
    "# general information of my model\n",
    "package_list = gwf.get_package_list()\n",
    "print('Packages:', package_list)\n",
    "print('Number of layers:', gwf.dis.nlay.array)  # Number of layers\n",
    "print('Number of cells:', gwf.dis.ncpl.array)  # Number of cells per layer\n",
    "print('Number of active cells:',(gwf.dis.idomain.array > 0).sum())"
   ]
  },
  {
   "cell_type": "code",
   "execution_count": 6,
   "id": "1bad648d-6d55-4df2-9822-a4dcbeb16789",
   "metadata": {},
   "outputs": [],
   "source": [
    "# Get the DISV package\n",
    "disv = gwf.get_package('disv')\n",
    "\n",
    "# Get the cell2d array which contains the cell identifiers and vertices\n",
    "cell2d = disv.cell2d.array\n",
    "vertices = disv.vertices.array\n",
    "\n",
    "# get the idomain array\n",
    "idomain = disv.idomain.array\n",
    "\n",
    "header=\"id,active,ewkt\"\n",
    "\n",
    "with open(grid_file, 'w', encoding='utf8') as fo:\n",
    "    fo.write(f'{header}\\n')\n",
    "    # For each cell\n",
    "    for ic, cell in enumerate(cell2d):\n",
    "        lcell = list(cell)\n",
    "        # Number of vertices for the cell\n",
    "        num_vertices = lcell[3]\n",
    "        # Extract the vertex identifiers\n",
    "        vertex_ids = lcell[4:4 + num_vertices]\n",
    "        vertex_xy = [list(vertices[v1])[1:] for v1 in vertex_ids]\n",
    "        # Format coordinates as a string\n",
    "        coordinate_str = ', '.join([f'{x} {y}' for x, y in vertex_xy])\n",
    "        # Create EWKT representation\n",
    "        ewkt_representation = f'SRID={epsg_code};POLYGON(({coordinate_str}))'\n",
    "        if exp_only_grid_active:\n",
    "            if idomain[layer,lcell[0]] == 1:\n",
    "                write_cell= True\n",
    "            else:\n",
    "                write_cell = False\n",
    "        else:\n",
    "            write_cell = True\n",
    "        if write_cell:\n",
    "            fo.write(f'{lcell[0]},{idomain[layer,lcell[0]]},\"{ewkt_representation}\"\\n')\n"
   ]
  },
  {
   "cell_type": "code",
   "execution_count": null,
   "id": "643f5ced-235a-413b-bde6-eaadb6026e40",
   "metadata": {},
   "outputs": [],
   "source": []
  }
 ],
 "metadata": {
  "kernelspec": {
   "display_name": "Python 3 (ipykernel)",
   "language": "python",
   "name": "python3"
  },
  "language_info": {
   "codemirror_mode": {
    "name": "ipython",
    "version": 3
   },
   "file_extension": ".py",
   "mimetype": "text/x-python",
   "name": "python",
   "nbconvert_exporter": "python",
   "pygments_lexer": "ipython3",
   "version": "3.11.6"
  }
 },
 "nbformat": 4,
 "nbformat_minor": 5
}
