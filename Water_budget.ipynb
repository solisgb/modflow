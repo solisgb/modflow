{
 "cells": [
  {
   "cell_type": "markdown",
   "id": "191df180-e545-463f-97c4-4f19135c8286",
   "metadata": {},
   "source": [
    "# Get modflow 6 water budget components from the .lst file"
   ]
  },
  {
   "cell_type": "code",
   "execution_count": 65,
   "id": "47e3bc8b-6bbd-40b1-b4df-cd233c1472e7",
   "metadata": {},
   "outputs": [],
   "source": [
    "from flopy import mf6, utils\n",
    "import matplotlib.pyplot as plt\n",
    "import numpy as np\n",
    "import pandas as pd\n",
    "from pathlib import Path"
   ]
  },
  {
   "cell_type": "markdown",
   "id": "5a215f36-2302-4542-85d8-ca03b93248c6",
   "metadata": {},
   "source": [
    "## Functions"
   ]
  },
  {
   "cell_type": "code",
   "execution_count": 108,
   "id": "8a91c871-2147-41fc-87ce-2859745c6d2b",
   "metadata": {},
   "outputs": [],
   "source": [
    "def plot(x: [], x_label: str, y: [], y_label: str, title: str,\n",
    "         fig_path: Path = None, display: bool = True,\n",
    "         xlength: float=8, ylength: float=6, as_bar: bool=True):\n",
    "    \"\"\"\n",
    "    xlength, ylength in inches\n",
    "    \"\"\"\n",
    "\n",
    "    plt.rcParams[\"figure.figsize\"] = (xlength, ylength)\n",
    "    \n",
    "    fig, ax = plt.subplots()\n",
    "    if as_bar:\n",
    "        ax.bar(x, y, color='blue')    \n",
    "    else:\n",
    "        ax.plot(x, y, color='blue')\n",
    "\n",
    "    # Set aspect ratio and labels\n",
    "#    ax.set_aspect('equal')\n",
    "    ax.set_xlabel(x_label)\n",
    "    ax.set_ylabel(y_label)\n",
    "    ax.set_title(title)\n",
    "\n",
    "    plt.grid(True)\n",
    "\n",
    "    if display:\n",
    "        plt.show()\n",
    "    else:\n",
    "        plt.savefig(fig_path)\n",
    "        plt.clf()\n",
    "    plt.rcParams.update(plt.rcParamsDefault)\n",
    "\n",
    "\n",
    "def replace_elements(element, dic1, dic2):\n",
    "    for key, value in dic1.items():\n",
    "        if key in element:\n",
    "            element = element.replace(key, value)\n",
    "    for key, value in dic2.items():\n",
    "        if key in element:\n",
    "            element = element.replace(key, value)\n",
    "    return element\n"
   ]
  },
  {
   "cell_type": "markdown",
   "id": "9ad1f84f-c738-42ae-96ce-5cc3a5b32682",
   "metadata": {},
   "source": [
    "## Set variables"
   ]
  },
  {
   "cell_type": "code",
   "execution_count": 46,
   "id": "cec879dc-8d4c-42a0-9344-78b5518b8791",
   "metadata": {},
   "outputs": [
    {
     "name": "stdout",
     "output_type": "stream",
     "text": [
      "E:\\EDU\\GroundWater\\mf6_exercises\\ex01\\ex01.lst\n"
     ]
    }
   ],
   "source": [
    "# Modflow: file and directory names\n",
    "model_name = 'ex01.nam'\n",
    "model_path = r'E:\\EDU\\GroundWater\\mf6_exercises\\ex01'\n",
    "model_path = Path(model_path)\n",
    "\n",
    "# Model units\n",
    "length_unit = 'm'\n",
    "time_unit = 'day'\n",
    "\n",
    "# lst file set in base of model_name\n",
    "lst_path = model_path.joinpath(model_name)\n",
    "lst_path = lst_path.with_suffix('.lst')\n",
    "print(lst_path)"
   ]
  },
  {
   "cell_type": "markdown",
   "id": "a721c498-47a1-4c6d-860a-19b60fafc80e",
   "metadata": {},
   "source": [
    "## Read the model"
   ]
  },
  {
   "cell_type": "code",
   "execution_count": 15,
   "id": "8993aa49-fcc0-43be-9a3a-c0cf1daf83ee",
   "metadata": {},
   "outputs": [
    {
     "name": "stdout",
     "output_type": "stream",
     "text": [
      "\n",
      "Model names in sim ['modflow']\n",
      "Packages: ['DISV', 'IC', 'NPF', 'OBS-1', 'STO', 'OC', 'WEL-1', 'DRN-1', 'RCH-1']\n",
      "Number of layers: 1\n",
      "Number of cells: 1250\n",
      "Number of active cells: 1250\n",
      "Type of grid: vertex\n",
      "Number of stress periods: 13\n",
      "Model object:  ['list()', 'zonebudget()', 'budget()', 'budgetcsv()', 'head()']\n"
     ]
    }
   ],
   "source": [
    "# gwf is instantiated and some basic features are shown\n",
    "sim = mf6.MFSimulation.load(sim_name=modelname, exe_name='mf6', sim_ws=model_path,verbosity_level=0)\n",
    "\n",
    "model_names = list(sim.model_names)\n",
    "print('\\nModel names in sim', model_names)\n",
    "\n",
    "model = sim.get_model(model_names[0])\n",
    "\n",
    "# general information of my model\n",
    "package_list = model.get_package_list()\n",
    "print('Packages:', package_list)\n",
    "print('Number of layers:', model.dis.nlay.array)  # Number of layers\n",
    "print('Number of cells:', model.dis.ncpl.array)  # Number of cells per layer\n",
    "print('Number of active cells:',(model.dis.idomain.array > 0).sum())\n",
    "grid_type = model.modelgrid.grid_type\n",
    "print('Type of grid:', grid_type)\n",
    "\n",
    "tdis = sim.tdis\n",
    "nper = tdis.nper.get_data()\n",
    "print('Number of stress periods:', nper)  \n",
    "\n",
    "print(\"Model object: \", model.output.methods())"
   ]
  },
  {
   "cell_type": "markdown",
   "id": "ac207bc6-affd-4c20-9a17-1d7c9fbf76c0",
   "metadata": {},
   "source": [
    "## Read the components of the water budget in the .lst file"
   ]
  },
  {
   "cell_type": "code",
   "execution_count": 62,
   "id": "0a5e3962-567e-42ba-aa00-7a4b181a24f4",
   "metadata": {},
   "outputs": [
    {
     "name": "stdout",
     "output_type": "stream",
     "text": [
      "Water budget dataframe\n"
     ]
    },
    {
     "data": {
      "text/html": [
       "<div>\n",
       "<style scoped>\n",
       "    .dataframe tbody tr th:only-of-type {\n",
       "        vertical-align: middle;\n",
       "    }\n",
       "\n",
       "    .dataframe tbody tr th {\n",
       "        vertical-align: top;\n",
       "    }\n",
       "\n",
       "    .dataframe thead th {\n",
       "        text-align: right;\n",
       "    }\n",
       "</style>\n",
       "<table border=\"1\" class=\"dataframe\">\n",
       "  <thead>\n",
       "    <tr style=\"text-align: right;\">\n",
       "      <th></th>\n",
       "      <th>totim</th>\n",
       "      <th>time_step</th>\n",
       "      <th>stress_period</th>\n",
       "      <th>STO-SS_IN</th>\n",
       "      <th>WEL_IN</th>\n",
       "      <th>DRN_IN</th>\n",
       "      <th>RCH_IN</th>\n",
       "      <th>TOTAL_IN</th>\n",
       "      <th>STO-SS_OUT</th>\n",
       "      <th>WEL_OUT</th>\n",
       "      <th>DRN_OUT</th>\n",
       "      <th>RCH_OUT</th>\n",
       "      <th>TOTAL_OUT</th>\n",
       "      <th>IN-OUT</th>\n",
       "      <th>PERCENT_DISCREPANCY</th>\n",
       "      <th>tslen</th>\n",
       "    </tr>\n",
       "  </thead>\n",
       "  <tbody>\n",
       "    <tr>\n",
       "      <th>0</th>\n",
       "      <td>1.0</td>\n",
       "      <td>0</td>\n",
       "      <td>0</td>\n",
       "      <td>0.000000</td>\n",
       "      <td>0.0</td>\n",
       "      <td>0.0</td>\n",
       "      <td>10000.000000</td>\n",
       "      <td>10000.000000</td>\n",
       "      <td>0.000000e+00</td>\n",
       "      <td>0.000000</td>\n",
       "      <td>10000.043945</td>\n",
       "      <td>0.0</td>\n",
       "      <td>10000.043945</td>\n",
       "      <td>-0.044335</td>\n",
       "      <td>-0.0</td>\n",
       "      <td>1.0000</td>\n",
       "    </tr>\n",
       "    <tr>\n",
       "      <th>1</th>\n",
       "      <td>32.0</td>\n",
       "      <td>15</td>\n",
       "      <td>1</td>\n",
       "      <td>9741.979492</td>\n",
       "      <td>0.0</td>\n",
       "      <td>0.0</td>\n",
       "      <td>258.064514</td>\n",
       "      <td>10000.043945</td>\n",
       "      <td>2.721800e-05</td>\n",
       "      <td>0.000000</td>\n",
       "      <td>10000.043945</td>\n",
       "      <td>0.0</td>\n",
       "      <td>10000.043945</td>\n",
       "      <td>-0.000009</td>\n",
       "      <td>-0.0</td>\n",
       "      <td>1.9375</td>\n",
       "    </tr>\n",
       "    <tr>\n",
       "      <th>2</th>\n",
       "      <td>60.0</td>\n",
       "      <td>22</td>\n",
       "      <td>2</td>\n",
       "      <td>9857.186523</td>\n",
       "      <td>0.0</td>\n",
       "      <td>0.0</td>\n",
       "      <td>142.857101</td>\n",
       "      <td>10000.042969</td>\n",
       "      <td>3.432700e-06</td>\n",
       "      <td>0.000000</td>\n",
       "      <td>10000.043945</td>\n",
       "      <td>0.0</td>\n",
       "      <td>10000.043945</td>\n",
       "      <td>-0.000967</td>\n",
       "      <td>-0.0</td>\n",
       "      <td>4.7382</td>\n",
       "    </tr>\n",
       "    <tr>\n",
       "      <th>3</th>\n",
       "      <td>91.0</td>\n",
       "      <td>35</td>\n",
       "      <td>3</td>\n",
       "      <td>10000.042969</td>\n",
       "      <td>0.0</td>\n",
       "      <td>0.0</td>\n",
       "      <td>0.000000</td>\n",
       "      <td>10000.042969</td>\n",
       "      <td>4.118200e-08</td>\n",
       "      <td>0.000000</td>\n",
       "      <td>10000.043945</td>\n",
       "      <td>0.0</td>\n",
       "      <td>10000.043945</td>\n",
       "      <td>-0.001391</td>\n",
       "      <td>-0.0</td>\n",
       "      <td>5.1740</td>\n",
       "    </tr>\n",
       "    <tr>\n",
       "      <th>4</th>\n",
       "      <td>121.0</td>\n",
       "      <td>14</td>\n",
       "      <td>4</td>\n",
       "      <td>10033.374023</td>\n",
       "      <td>0.0</td>\n",
       "      <td>0.0</td>\n",
       "      <td>0.000000</td>\n",
       "      <td>10033.374023</td>\n",
       "      <td>0.000000e+00</td>\n",
       "      <td>33.333302</td>\n",
       "      <td>10000.041016</td>\n",
       "      <td>0.0</td>\n",
       "      <td>10033.374023</td>\n",
       "      <td>-0.000008</td>\n",
       "      <td>-0.0</td>\n",
       "      <td>2.0000</td>\n",
       "    </tr>\n",
       "  </tbody>\n",
       "</table>\n",
       "</div>"
      ],
      "text/plain": [
       "   totim  time_step  stress_period     STO-SS_IN  WEL_IN  DRN_IN  \\\n",
       "0    1.0          0              0      0.000000     0.0     0.0   \n",
       "1   32.0         15              1   9741.979492     0.0     0.0   \n",
       "2   60.0         22              2   9857.186523     0.0     0.0   \n",
       "3   91.0         35              3  10000.042969     0.0     0.0   \n",
       "4  121.0         14              4  10033.374023     0.0     0.0   \n",
       "\n",
       "         RCH_IN      TOTAL_IN    STO-SS_OUT    WEL_OUT       DRN_OUT  RCH_OUT  \\\n",
       "0  10000.000000  10000.000000  0.000000e+00   0.000000  10000.043945      0.0   \n",
       "1    258.064514  10000.043945  2.721800e-05   0.000000  10000.043945      0.0   \n",
       "2    142.857101  10000.042969  3.432700e-06   0.000000  10000.043945      0.0   \n",
       "3      0.000000  10000.042969  4.118200e-08   0.000000  10000.043945      0.0   \n",
       "4      0.000000  10033.374023  0.000000e+00  33.333302  10000.041016      0.0   \n",
       "\n",
       "      TOTAL_OUT    IN-OUT  PERCENT_DISCREPANCY   tslen  \n",
       "0  10000.043945 -0.044335                 -0.0  1.0000  \n",
       "1  10000.043945 -0.000009                 -0.0  1.9375  \n",
       "2  10000.043945 -0.000967                 -0.0  4.7382  \n",
       "3  10000.043945 -0.001391                 -0.0  5.1740  \n",
       "4  10033.374023 -0.000008                 -0.0  2.0000  "
      ]
     },
     "execution_count": 62,
     "metadata": {},
     "output_type": "execute_result"
    }
   ],
   "source": [
    "# create an instance of Mf6ListBudget\n",
    "budget_obj = utils.Mf6ListBudget(lst_path)\n",
    "\n",
    "data = budget_obj.get_budget()\n",
    "dtype = data[0].dtype\n",
    "dtype_names = dtype.names\n",
    "list_of_dicts = [dict(zip(dtype_names, row.tolist())) for row in data[0]]\n",
    "df = pd.DataFrame(list_of_dicts)\n",
    "\n",
    "print('Water budget dataframe')\n",
    "df.head()"
   ]
  },
  {
   "cell_type": "code",
   "execution_count": 92,
   "id": "a0e06b41-34d2-4fa6-b12b-5954d7cdcb28",
   "metadata": {},
   "outputs": [
    {
     "name": "stdout",
     "output_type": "stream",
     "text": [
      "<class 'pandas.core.frame.DataFrame'>\n",
      "RangeIndex: 13 entries, 0 to 12\n",
      "Data columns (total 16 columns):\n",
      " #   Column               Non-Null Count  Dtype  \n",
      "---  ------               --------------  -----  \n",
      " 0   totim                13 non-null     float64\n",
      " 1   time_step            13 non-null     int64  \n",
      " 2   stress_period        13 non-null     int64  \n",
      " 3   STO-SS_IN            13 non-null     float64\n",
      " 4   WEL_IN               13 non-null     float64\n",
      " 5   DRN_IN               13 non-null     float64\n",
      " 6   RCH_IN               13 non-null     float64\n",
      " 7   TOTAL_IN             13 non-null     float64\n",
      " 8   STO-SS_OUT           13 non-null     float64\n",
      " 9   WEL_OUT              13 non-null     float64\n",
      " 10  DRN_OUT              13 non-null     float64\n",
      " 11  RCH_OUT              13 non-null     float64\n",
      " 12  TOTAL_OUT            13 non-null     float64\n",
      " 13  IN-OUT               13 non-null     float64\n",
      " 14  PERCENT_DISCREPANCY  13 non-null     float64\n",
      " 15  tslen                13 non-null     float64\n",
      "dtypes: float64(14), int64(2)\n",
      "memory usage: 1.8 KB\n"
     ]
    }
   ],
   "source": [
    "df.info()"
   ]
  },
  {
   "cell_type": "code",
   "execution_count": 103,
   "id": "3d12acd5-fa54-4b1e-b8df-4349bb52911f",
   "metadata": {},
   "outputs": [],
   "source": [
    "# translation names used in plots (add more if needed)\n",
    "dic1 = {'STO-SS': 'Storage - Specific Storage',\n",
    "        'WEL': 'Wells',\n",
    "        'DRN': 'Drains',\n",
    "        'RCH': 'Recharge',\n",
    "        'TOTAL': 'Total',\n",
    "        'IN-OUT': 'Input - Output',\n",
    "        'PERCENT_DISCREPANCY': 'Percent Discrepancy',\n",
    "        'tslen': 'Time Step Length'\n",
    "       }\n",
    "dic2 = {'_IN': '(input)', '_OUT': '(output)'}\n"
   ]
  },
  {
   "cell_type": "markdown",
   "id": "71ca3796-90f7-40ae-9808-e18b8df9e818",
   "metadata": {},
   "source": [
    "## Plot water budgets components in the screen\n",
    "You can plot components as a scatter plot with lines or as a bar plot using as_bar parameter"
   ]
  },
  {
   "cell_type": "code",
   "execution_count": 110,
   "id": "13760a79-1340-4661-b14a-a69f37521bf6",
   "metadata": {},
   "outputs": [
    {
     "data": {
      "image/png": "[encoded data removed]",
      "text/plain": [
       "<Figure size 800x600 with 1 Axes>"
      ]
     },
     "metadata": {},
     "output_type": "display_data"
    }
   ],
   "source": [
    "xc = 'totim'\n",
    "yc = 'STO-SS_IN'\n",
    "\n",
    "plot(df[xc][1:], xc, df[yc][1:], yc, f'{yc} vs {xc}', as_bar=False)"
   ]
  },
  {
   "cell_type": "markdown",
   "id": "d7bbf42f-dc28-41a0-ad6c-c072934f3637",
   "metadata": {},
   "source": [
    "## Save the plots of the water budget components to files\n",
    "All in a row<br>\n",
    "The size of the figure can be set (units inches)<br>\n",
    "Look into function definition to the complete list of parameters"
   ]
  },
  {
   "cell_type": "code",
   "execution_count": 109,
   "id": "cfd3efce-ed9c-45d5-bdc1-dbd2fef9cafa",
   "metadata": {},
   "outputs": [
    {
     "data": {
      "text/plain": [
       "<Figure size 700x400 with 0 Axes>"
      ]
     },
     "metadata": {},
     "output_type": "display_data"
    },
    {
     "data": {
      "text/plain": [
       "<Figure size 700x400 with 0 Axes>"
      ]
     },
     "metadata": {},
     "output_type": "display_data"
    },
    {
     "data": {
      "text/plain": [
       "<Figure size 700x400 with 0 Axes>"
      ]
     },
     "metadata": {},
     "output_type": "display_data"
    },
    {
     "data": {
      "text/plain": [
       "<Figure size 700x400 with 0 Axes>"
      ]
     },
     "metadata": {},
     "output_type": "display_data"
    },
    {
     "data": {
      "text/plain": [
       "<Figure size 700x400 with 0 Axes>"
      ]
     },
     "metadata": {},
     "output_type": "display_data"
    },
    {
     "data": {
      "text/plain": [
       "<Figure size 700x400 with 0 Axes>"
      ]
     },
     "metadata": {},
     "output_type": "display_data"
    },
    {
     "data": {
      "text/plain": [
       "<Figure size 700x400 with 0 Axes>"
      ]
     },
     "metadata": {},
     "output_type": "display_data"
    },
    {
     "data": {
      "text/plain": [
       "<Figure size 700x400 with 0 Axes>"
      ]
     },
     "metadata": {},
     "output_type": "display_data"
    },
    {
     "data": {
      "text/plain": [
       "<Figure size 700x400 with 0 Axes>"
      ]
     },
     "metadata": {},
     "output_type": "display_data"
    },
    {
     "data": {
      "text/plain": [
       "<Figure size 700x400 with 0 Axes>"
      ]
     },
     "metadata": {},
     "output_type": "display_data"
    },
    {
     "data": {
      "text/plain": [
       "<Figure size 700x400 with 0 Axes>"
      ]
     },
     "metadata": {},
     "output_type": "display_data"
    },
    {
     "data": {
      "text/plain": [
       "<Figure size 700x400 with 0 Axes>"
      ]
     },
     "metadata": {},
     "output_type": "display_data"
    },
    {
     "data": {
      "text/plain": [
       "<Figure size 700x400 with 0 Axes>"
      ]
     },
     "metadata": {},
     "output_type": "display_data"
    }
   ],
   "source": [
    "# directory path where figures will be saved\n",
    "dir_path = r'E:\\EDU\\GroundWater\\mf6_exercises\\ex01\\xybudget'\n",
    "dir_path = Path(dir_path)\n",
    "\n",
    "col_names = df.columns.tolist()\n",
    "xc = 'totim' \n",
    "xlabel = f'time ({time_unit})'\n",
    "for i, cn1 in enumerate(col_names[3:]):\n",
    "    long_name = replace_elements(cn1, dic1, dic2)\n",
    "    title = f'{long_name} vs. time'\n",
    "    fig_path = dir_path.joinpath(f'{i:02d}_{cn1}.png')\n",
    "    ylabel = f'{long_name} ({length_unit}^3)'\n",
    "    plot(df[xc][1:], xlabel, df[cn1][1:], ylabel, title, fig_path, False, 7, 4)\n"
   ]
  }
 ],
 "metadata": {
  "kernelspec": {
   "display_name": "Python 3 (ipykernel)",
   "language": "python",
   "name": "python3"
  },
  "language_info": {
   "codemirror_mode": {
    "name": "ipython",
    "version": 3
   },
   "file_extension": ".py",
   "mimetype": "text/x-python",
   "name": "python",
   "nbconvert_exporter": "python",
   "pygments_lexer": "ipython3",
   "version": "3.11.6"
  }
 },
 "nbformat": 4,
 "nbformat_minor": 5
}
