{
 "cells": [
  {
   "cell_type": "markdown",
   "id": "9dbb422a-a6f4-496e-88de-d5daa19d4a3d",
   "metadata": {},
   "source": [
    "# MF6. Relación entre niveles medidos y calculados\n",
    "* Régimen estacionario\n",
    "* DISV grid"
   ]
  },
  {
   "cell_type": "code",
   "execution_count": 1,
   "id": "d0587df3-7494-47cb-98de-397c53f54627",
   "metadata": {},
   "outputs": [],
   "source": [
    "# This is because I was changing mf_plots.py as I was working here\n",
    "%load_ext autoreload\n",
    "%autoreload 2"
   ]
  },
  {
   "cell_type": "code",
   "execution_count": 2,
   "id": "66ef46ef-6798-4bf2-897f-abee8f605522",
   "metadata": {},
   "outputs": [],
   "source": [
    "import flopy.mf6 as mf6\n",
    "import flopy.utils.binaryfile as bf\n",
    "import matplotlib.pyplot as plt\n",
    "import numpy as np\n",
    "import pandas as pd\n",
    "from pathlib import Path"
   ]
  },
  {
   "cell_type": "code",
   "execution_count": 4,
   "id": "88eac00d-dfbb-43ce-bce7-8e7bda69a2d6",
   "metadata": {},
   "outputs": [],
   "source": [
    "# import mf_plots.py located in the same directory\n",
    "import os\n",
    "current_dir = os.getcwd()\n",
    "os.environ['PYTHONPATH'] = current_dir\n",
    "import mf_plots"
   ]
  },
  {
   "cell_type": "markdown",
   "id": "c8d064b0-7a23-4273-811a-8ab6f210fedd",
   "metadata": {},
   "source": [
    "## Lectura del fichero con los niveles medidos en puntos de observación\n",
    "* Todos los sondeos están dentro del dominio del modelo.\n",
    "* En este caso los tengo guardados en un fichero csv. "
   ]
  },
  {
   "cell_type": "code",
   "execution_count": 6,
   "id": "424b8366-8f5a-49b5-8b16-037dd0208858",
   "metadata": {},
   "outputs": [
    {
     "data": {
      "text/html": [
       "<div>\n",
       "<style scoped>\n",
       "    .dataframe tbody tr th:only-of-type {\n",
       "        vertical-align: middle;\n",
       "    }\n",
       "\n",
       "    .dataframe tbody tr th {\n",
       "        vertical-align: top;\n",
       "    }\n",
       "\n",
       "    .dataframe thead th {\n",
       "        text-align: right;\n",
       "    }\n",
       "</style>\n",
       "<table border=\"1\" class=\"dataframe\">\n",
       "  <thead>\n",
       "    <tr style=\"text-align: right;\">\n",
       "      <th></th>\n",
       "      <th>sondeo</th>\n",
       "      <th>x</th>\n",
       "      <th>y</th>\n",
       "      <th>z</th>\n",
       "      <th>cnp</th>\n",
       "      <th>pnp</th>\n",
       "      <th>prof</th>\n",
       "      <th>campanya</th>\n",
       "      <th>anyo_lectura</th>\n",
       "      <th>observacio</th>\n",
       "    </tr>\n",
       "  </thead>\n",
       "  <tbody>\n",
       "    <tr>\n",
       "      <th>0</th>\n",
       "      <td>SM1</td>\n",
       "      <td>432119.530805</td>\n",
       "      <td>4.591804e+06</td>\n",
       "      <td>30.309</td>\n",
       "      <td>21.809</td>\n",
       "      <td>8.5</td>\n",
       "      <td>25.0</td>\n",
       "      <td>&lt; 2001</td>\n",
       "      <td>1999</td>\n",
       "      <td>NaN</td>\n",
       "    </tr>\n",
       "    <tr>\n",
       "      <th>1</th>\n",
       "      <td>SM3</td>\n",
       "      <td>432140.914559</td>\n",
       "      <td>4.591997e+06</td>\n",
       "      <td>30.465</td>\n",
       "      <td>22.965</td>\n",
       "      <td>7.5</td>\n",
       "      <td>23.0</td>\n",
       "      <td>&lt; 2001</td>\n",
       "      <td>2005</td>\n",
       "      <td>NaN</td>\n",
       "    </tr>\n",
       "    <tr>\n",
       "      <th>2</th>\n",
       "      <td>SM5</td>\n",
       "      <td>432166.579268</td>\n",
       "      <td>4.592210e+06</td>\n",
       "      <td>31.177</td>\n",
       "      <td>24.177</td>\n",
       "      <td>7.0</td>\n",
       "      <td>18.5</td>\n",
       "      <td>&lt; 2001</td>\n",
       "      <td>1999</td>\n",
       "      <td>NaN</td>\n",
       "    </tr>\n",
       "    <tr>\n",
       "      <th>3</th>\n",
       "      <td>SM6</td>\n",
       "      <td>432189.567023</td>\n",
       "      <td>4.592317e+06</td>\n",
       "      <td>32.000</td>\n",
       "      <td>24.500</td>\n",
       "      <td>7.5</td>\n",
       "      <td>20.0</td>\n",
       "      <td>&lt; 2001</td>\n",
       "      <td>1999</td>\n",
       "      <td>NaN</td>\n",
       "    </tr>\n",
       "    <tr>\n",
       "      <th>4</th>\n",
       "      <td>SM20</td>\n",
       "      <td>432094.682088</td>\n",
       "      <td>4.591598e+06</td>\n",
       "      <td>29.255</td>\n",
       "      <td>21.255</td>\n",
       "      <td>8.0</td>\n",
       "      <td>26.0</td>\n",
       "      <td>&lt; 2001</td>\n",
       "      <td>1990</td>\n",
       "      <td>NaN</td>\n",
       "    </tr>\n",
       "  </tbody>\n",
       "</table>\n",
       "</div>"
      ],
      "text/plain": [
       "  sondeo              x             y       z     cnp  pnp  prof campanya  \\\n",
       "0    SM1  432119.530805  4.591804e+06  30.309  21.809  8.5  25.0   < 2001   \n",
       "1    SM3  432140.914559  4.591997e+06  30.465  22.965  7.5  23.0   < 2001   \n",
       "2    SM5  432166.579268  4.592210e+06  31.177  24.177  7.0  18.5   < 2001   \n",
       "3    SM6  432189.567023  4.592317e+06  32.000  24.500  7.5  20.0   < 2001   \n",
       "4   SM20  432094.682088  4.591598e+06  29.255  21.255  8.0  26.0   < 2001   \n",
       "\n",
       "   anyo_lectura observacio  \n",
       "0          1999        NaN  \n",
       "1          2005        NaN  \n",
       "2          1999        NaN  \n",
       "3          1999        NaN  \n",
       "4          1990        NaN  "
      ]
     },
     "execution_count": 6,
     "metadata": {},
     "output_type": "execute_result"
    }
   ],
   "source": [
    "# path to data file\n",
    "fpath = r'E:\\Cursos\\H2OGEO\\2023_Modelacion_HGeo\\Ej_2\\Niveles\\_niveles_epsg25831_in_domain.csv'\n",
    "df = pd.read_csv(fpath) \n",
    "df.head()"
   ]
  },
  {
   "cell_type": "code",
   "execution_count": 16,
   "id": "af2a0447-7314-4f56-b77b-36288dd0ce01",
   "metadata": {},
   "outputs": [],
   "source": [
    "# Set the column_names\n",
    "obs_id = 'sondeo' # Column of observation point identifiers\n",
    "x = 'x'  # column of x coordinate (projected)\n",
    "y = 'y'  # column of y coordinate (projected)\n",
    "obs = 'cnp'  # column of observations\n",
    "\n",
    "# Modflow: file and directory names\n",
    "modelname = 'Moncada.nam'\n",
    "model_ws = 'E:/Cursos/H2OGEO/2023_Modelacion_HGeo/Ej_2'\n",
    "model_ws_path = Path(model_ws)\n",
    "\n",
    "# Unots for labels\n",
    "length_unit = 'm'\n",
    "time_unit = 'day'"
   ]
  },
  {
   "cell_type": "code",
   "execution_count": 17,
   "id": "aaa5c5d6-2de7-499d-bbb7-1ff26cb4a3f4",
   "metadata": {},
   "outputs": [
    {
     "name": "stdout",
     "output_type": "stream",
     "text": [
      "loading simulation...\n",
      "  loading simulation name file...\n",
      "  loading tdis package...\n",
      "  loading model gwf6...\n",
      "    loading package disv...\n",
      "WARNING: Unable to resolve dimension of ('gwf6', 'disv', 'cell2d', 'cell2d', 'icvert') based on shape \"ncvert\".\n",
      "    loading package ic...\n",
      "WARNING: Block \"options\" is not a valid block name for file type ic.\n",
      "    loading package npf...\n",
      "    loading package gnc...\n",
      "    loading package oc...\n",
      "    loading package chd...\n",
      "    loading package wel...\n",
      "    loading package riv...\n",
      "    loading package rch...\n",
      "  loading solution package modflow...\n",
      "\n",
      "Model names in sim ['modflow']\n",
      "Type of grid: vertex\n",
      "Number of layers: {internal}\n",
      "(1)\n",
      "\n",
      "Number of stress periods: 1\n"
     ]
    }
   ],
   "source": [
    "# gwf is instantiated and some basic features are shown\n",
    "sim = mf6.MFSimulation.load(sim_name=modelname, exe_name='mf6', sim_ws=model_ws)\n",
    "\n",
    "model_names = list(sim.model_names)\n",
    "print('\\nModel names in sim', model_names)\n",
    "\n",
    "gwf = sim.get_model(model_names[0])\n",
    "\n",
    "grid_type = gwf.modelgrid.grid_type\n",
    "print('Type of grid:', grid_type)\n",
    "    \n",
    "disv = gwf.get_package('disv')\n",
    "print('Number of layers:', disv.nlay)\n",
    "\n",
    "tdis = sim.tdis\n",
    "nper = tdis.nper.get_data()\n",
    "print('Number of stress periods:', nper)    "
   ]
  },
  {
   "cell_type": "markdown",
   "id": "334bd832-ebc5-45cb-b76a-d05b57775fca",
   "metadata": {},
   "source": [
    "## Sondeos: h observada vs simulada; RMSE  "
   ]
  },
  {
   "cell_type": "code",
   "execution_count": 19,
   "id": "4f7ffb6d-8939-4070-aad2-71d3dd89fa6a",
   "metadata": {},
   "outputs": [
    {
     "name": "stdout",
     "output_type": "stream",
     "text": [
      "CPU times: total: 53.9 s\n",
      "Wall time: 53.9 s\n"
     ]
    }
   ],
   "source": [
    "%%time\n",
    "\n",
    "# get the cell id for each observation point in df\n",
    "cells_ids =[gwf.modelgrid.intersect(row[x], row[y]) for index, row in df.iterrows()]"
   ]
  },
  {
   "cell_type": "code",
   "execution_count": 31,
   "id": "bc92a021-4945-4cb2-83be-e661a6980b3b",
   "metadata": {},
   "outputs": [
    {
     "name": "stdout",
     "output_type": "stream",
     "text": [
      "Root Mean Squared Error (RMSE): 2.5585012337191912 m\n",
      "Results saved in ./calibration/h_obs_vs_sim_disv_stationary.csv\n"
     ]
    }
   ],
   "source": [
    "# Required names (change them if necessary:\n",
    "\n",
    "# Default head name\n",
    "headfile = model_ws_path.joinpath(modelname)\n",
    "headfile = headfile.with_suffix('.bhd')\n",
    "# layer where heads are to be read\n",
    "nlayer = 0\n",
    "# csv file where results are to be saved\n",
    "fresults = './calibration/h_obs_vs_sim_disv_stationary.csv'\n",
    "\n",
    "# create headfile object\n",
    "headobj = bf.HeadFile(headfile)\n",
    "\n",
    "# get all times\n",
    "times = headobj.get_times()\n",
    "if len(times) > 1:\n",
    "    raise ValueError('This is not stationary model')\n",
    "\n",
    "# get the heads in a stationary simmulation\n",
    "h_sim = []\n",
    "for time in times:\n",
    "    head = headobj.get_data(totim=time)\n",
    "    for cell_id in cells_ids:\n",
    "        h_sim.append(head[0, 0, cell_id + nlayer])\n",
    "\n",
    "df['sim'] = h_sim\n",
    "df['er'] = df[obs] - df[sim]\n",
    "mse = ((df['er'])**2).mean()\n",
    "rmse = np.sqrt(mse)\n",
    "print(f'Root Mean Squared Error (RMSE): {rmse} {length_unit}')\n",
    "\n",
    "result = df[[obs_id, obs, 'sim', 'er', x, y]]\n",
    "result.to_csv(fresults, index=False)\n",
    "result.head()\n",
    "\n",
    "print(f'Results saved in {fresults}')"
   ]
  },
  {
   "cell_type": "markdown",
   "id": "a084c0ce-77ba-472b-b31c-b6ecec4eb5dc",
   "metadata": {},
   "source": [
    "## Plot h medida versus calculada"
   ]
  },
  {
   "cell_type": "code",
   "execution_count": 32,
   "id": "7a1521b0-9fea-400d-8a5e-7465d4d86665",
   "metadata": {},
   "outputs": [
    {
     "data": {
      "image/png": "[encoded data removed]",
      "text/plain": [
       "<Figure size 640x480 with 1 Axes>"
      ]
     },
     "metadata": {},
     "output_type": "display_data"
    },
    {
     "name": "stdout",
     "output_type": "stream",
     "text": [
      "File saved in calibration\\h_obs_vs_sim_disv_stationary.png\n"
     ]
    }
   ],
   "source": [
    "# png output file has the the same file name than fresults\n",
    "foutput = Path(fresults).with_suffix('.png')\n",
    "mf_plots.plot_h_obs_sim_sta(foutput, df[obs].to_numpy(), df['sim'].to_numpy(), rmse)\n",
    "print(f'File saved in {foutput}')"
   ]
  },
  {
   "cell_type": "code",
   "execution_count": null,
   "id": "b1341f3c-1757-44b2-9651-f906c8ade8ff",
   "metadata": {},
   "outputs": [],
   "source": []
  }
 ],
 "metadata": {
  "kernelspec": {
   "display_name": "Python 3 (ipykernel)",
   "language": "python",
   "name": "python3"
  },
  "language_info": {
   "codemirror_mode": {
    "name": "ipython",
    "version": 3
   },
   "file_extension": ".py",
   "mimetype": "text/x-python",
   "name": "python",
   "nbconvert_exporter": "python",
   "pygments_lexer": "ipython3",
   "version": "3.12.0"
  }
 },
 "nbformat": 4,
 "nbformat_minor": 5
}
