{
 "cells": [
  {
   "cell_type": "markdown",
   "id": "0ccd0e73-5eda-49b0-a175-144a15394cbb",
   "metadata": {},
   "source": [
    "# Connected scatter plots of simulated h in observation points"
   ]
  },
  {
   "cell_type": "code",
   "execution_count": 1,
   "id": "3e3e6829-2f83-40bf-9bac-c798e126417b",
   "metadata": {},
   "outputs": [],
   "source": [
    "import matplotlib.pyplot as plt\n",
    "import pandas as pd\n",
    "from pathlib import Path"
   ]
  },
  {
   "cell_type": "code",
   "execution_count": 23,
   "id": "b47db32f-af94-471d-ab57-d7cbe7d590b5",
   "metadata": {},
   "outputs": [],
   "source": [
    "def plot(x: [], x_label: str, y: [], y_label: str, title: str,\n",
    "         fig_path: Path = None, display: bool = True,\n",
    "         xlength: float=7, ylength: float=5, as_bar: bool=False):\n",
    "    \"\"\"\n",
    "    matplotlib defaults: xlength = 8 inch, ylength = 6 inch\n",
    "    \"\"\"\n",
    "\n",
    "    plt.rcParams[\"figure.figsize\"] = (xlength, ylength)\n",
    "    # plt.subplots_adjust(left=0.1, right=0.9, top=0.9, bottom=0.1)\n",
    "    \n",
    "    fig, ax = plt.subplots()\n",
    "    if as_bar:\n",
    "        ax.bar(x, y, color='blue')    \n",
    "    else:\n",
    "        ax.plot(x, y, color='blue')\n",
    "\n",
    "    # Set aspect ratio and labels\n",
    "    ax.set_xlabel(x_label)\n",
    "    ax.set_ylabel(y_label)\n",
    "    ax.set_title(title)\n",
    "\n",
    "    plt.grid(True)\n",
    "\n",
    "    if display:\n",
    "        plt.show()\n",
    "        \n",
    "    if fig_path is not None:\n",
    "        plt.tight_layout()\n",
    "        plt.savefig(fig_path)\n",
    "\n",
    "    plt.clf()\n",
    "    plt.rcParams.update(plt.rcParamsDefault)\n"
   ]
  },
  {
   "cell_type": "code",
   "execution_count": 9,
   "id": "0972deaf-3626-4316-ba89-ae587c931673",
   "metadata": {},
   "outputs": [
    {
     "name": "stdout",
     "output_type": "stream",
     "text": [
      "Data shape: (244, 3)\n",
      "Column names: ['time', 'HD_HOBS_1', 'HD_HOBS_2']\n"
     ]
    },
    {
     "data": {
      "text/html": [
       "<div>\n",
       "<style scoped>\n",
       "    .dataframe tbody tr th:only-of-type {\n",
       "        vertical-align: middle;\n",
       "    }\n",
       "\n",
       "    .dataframe tbody tr th {\n",
       "        vertical-align: top;\n",
       "    }\n",
       "\n",
       "    .dataframe thead th {\n",
       "        text-align: right;\n",
       "    }\n",
       "</style>\n",
       "<table border=\"1\" class=\"dataframe\">\n",
       "  <thead>\n",
       "    <tr style=\"text-align: right;\">\n",
       "      <th></th>\n",
       "      <th>time</th>\n",
       "      <th>HD_HOBS_1</th>\n",
       "      <th>HD_HOBS_2</th>\n",
       "    </tr>\n",
       "  </thead>\n",
       "  <tbody>\n",
       "    <tr>\n",
       "      <th>0</th>\n",
       "      <td>1.0000</td>\n",
       "      <td>-1.083755</td>\n",
       "      <td>-8.149468</td>\n",
       "    </tr>\n",
       "    <tr>\n",
       "      <th>1</th>\n",
       "      <td>2.9375</td>\n",
       "      <td>-1.083756</td>\n",
       "      <td>-8.149468</td>\n",
       "    </tr>\n",
       "    <tr>\n",
       "      <th>2</th>\n",
       "      <td>4.8750</td>\n",
       "      <td>-1.083759</td>\n",
       "      <td>-8.149468</td>\n",
       "    </tr>\n",
       "    <tr>\n",
       "      <th>3</th>\n",
       "      <td>6.8125</td>\n",
       "      <td>-1.083765</td>\n",
       "      <td>-8.149468</td>\n",
       "    </tr>\n",
       "    <tr>\n",
       "      <th>4</th>\n",
       "      <td>8.7500</td>\n",
       "      <td>-1.083777</td>\n",
       "      <td>-8.149468</td>\n",
       "    </tr>\n",
       "  </tbody>\n",
       "</table>\n",
       "</div>"
      ],
      "text/plain": [
       "     time  HD_HOBS_1  HD_HOBS_2\n",
       "0  1.0000  -1.083755  -8.149468\n",
       "1  2.9375  -1.083756  -8.149468\n",
       "2  4.8750  -1.083759  -8.149468\n",
       "3  6.8125  -1.083765  -8.149468\n",
       "4  8.7500  -1.083777  -8.149468"
      ]
     },
     "execution_count": 9,
     "metadata": {},
     "output_type": "execute_result"
    }
   ],
   "source": [
    "# H simulated in observation points\n",
    "file_path = r'E:\\EDU\\GroundWater\\mf6_exercises\\ex01\\ex01.ob_gw_out_head.csv'\n",
    "\n",
    "dir_output = r'E:\\EDU\\GroundWater\\mf6_exercises\\ex01\\xy_h_observ_points'\n",
    "\n",
    "# Model units\n",
    "length_unit = 'm'\n",
    "time_unit = 'day'\n",
    "\n",
    "df = pd.read_csv(file_path)\n",
    "print('Data shape:', df.shape)\n",
    "print('Column names:', df.columns.tolist())\n",
    "df.head()"
   ]
  },
  {
   "cell_type": "code",
   "execution_count": 24,
   "id": "aa0522fc-9e7b-4abf-b074-3c408ff6b0d9",
   "metadata": {},
   "outputs": [],
   "source": [
    "# xy to file\n",
    "equivalences = {'HD_HOBS_1': 'Sondeo A', 'HD_HOBS_2': 'Sondeo B'}\n",
    "\n",
    "dir_output = Path(dir_output)\n",
    "column_names = df.columns.tolist()\n",
    "xc = 'time' \n",
    "xlabel = f'Time ({time_unit})'\n",
    "for i, cn1 in enumerate(column_names[1:]):\n",
    "    if cn1 in equivalences:\n",
    "        title = f'H simulada en {cn1} ({equivalences[cn1]})'\n",
    "    else:\n",
    "        title = f'H simulada en {cn1}'\n",
    "    fig_path = dir_output.joinpath(f'{i:02d}_{cn1}.png')\n",
    "    ylabel = f'H ({length_unit})'\n",
    "    plot(df[xc][1:], xlabel, df[cn1][1:], ylabel, title, fig_path, display=False)\n",
    "\n"
   ]
  }
 ],
 "metadata": {
  "kernelspec": {
   "display_name": "Python 3 (ipykernel)",
   "language": "python",
   "name": "python3"
  },
  "language_info": {
   "codemirror_mode": {
    "name": "ipython",
    "version": 3
   },
   "file_extension": ".py",
   "mimetype": "text/x-python",
   "name": "python",
   "nbconvert_exporter": "python",
   "pygments_lexer": "ipython3",
   "version": "3.11.6"
  }
 },
 "nbformat": 4,
 "nbformat_minor": 5
}
