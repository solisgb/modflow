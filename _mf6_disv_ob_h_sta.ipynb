{
 "cells": [
  {
   "cell_type": "markdown",
   "id": "9dbb422a-a6f4-496e-88de-d5daa19d4a3d",
   "metadata": {},
   "source": [
    "# MF6. Relación entre niveles medidos y calculados\n",
    "* Régimen estacionario\n",
    "* DISV grid"
   ]
  },
  {
   "cell_type": "code",
   "execution_count": 1,
   "id": "d8ebc634-1d1e-4a2a-833b-097e03437c2b",
   "metadata": {},
   "outputs": [],
   "source": [
    "import flopy.mf6 as mf6\n",
    "import flopy.utils.binaryfile as bf\n",
    "import matplotlib.pyplot as plt\n",
    "import numpy as np\n",
    "import pandas as pd"
   ]
  },
  {
   "cell_type": "markdown",
   "id": "c8d064b0-7a23-4273-811a-8ab6f210fedd",
   "metadata": {},
   "source": [
    "## Lectura del fichero con los niveles medidos en sondeos\n",
    "(puntos de observación)\n",
    "* Todos los sondeos están dentro del dominio del modelo.\n",
    "* En este caso los tengo guardados en un fichero csv. "
   ]
  },
  {
   "cell_type": "code",
   "execution_count": 2,
   "id": "424b8366-8f5a-49b5-8b16-037dd0208858",
   "metadata": {},
   "outputs": [
    {
     "data": {
      "text/html": [
       "<div>\n",
       "<style scoped>\n",
       "    .dataframe tbody tr th:only-of-type {\n",
       "        vertical-align: middle;\n",
       "    }\n",
       "\n",
       "    .dataframe tbody tr th {\n",
       "        vertical-align: top;\n",
       "    }\n",
       "\n",
       "    .dataframe thead th {\n",
       "        text-align: right;\n",
       "    }\n",
       "</style>\n",
       "<table border=\"1\" class=\"dataframe\">\n",
       "  <thead>\n",
       "    <tr style=\"text-align: right;\">\n",
       "      <th></th>\n",
       "      <th>sondeo</th>\n",
       "      <th>x</th>\n",
       "      <th>y</th>\n",
       "      <th>z</th>\n",
       "      <th>cnp</th>\n",
       "      <th>pnp</th>\n",
       "      <th>prof</th>\n",
       "      <th>campanya</th>\n",
       "      <th>anyo_lectura</th>\n",
       "      <th>observacio</th>\n",
       "    </tr>\n",
       "  </thead>\n",
       "  <tbody>\n",
       "    <tr>\n",
       "      <th>0</th>\n",
       "      <td>SM1</td>\n",
       "      <td>432119.530805</td>\n",
       "      <td>4.591804e+06</td>\n",
       "      <td>30.309</td>\n",
       "      <td>21.809</td>\n",
       "      <td>8.5</td>\n",
       "      <td>25.0</td>\n",
       "      <td>&lt; 2001</td>\n",
       "      <td>1999</td>\n",
       "      <td>NaN</td>\n",
       "    </tr>\n",
       "    <tr>\n",
       "      <th>1</th>\n",
       "      <td>SM3</td>\n",
       "      <td>432140.914559</td>\n",
       "      <td>4.591997e+06</td>\n",
       "      <td>30.465</td>\n",
       "      <td>22.965</td>\n",
       "      <td>7.5</td>\n",
       "      <td>23.0</td>\n",
       "      <td>&lt; 2001</td>\n",
       "      <td>2005</td>\n",
       "      <td>NaN</td>\n",
       "    </tr>\n",
       "    <tr>\n",
       "      <th>2</th>\n",
       "      <td>SM5</td>\n",
       "      <td>432166.579268</td>\n",
       "      <td>4.592210e+06</td>\n",
       "      <td>31.177</td>\n",
       "      <td>24.177</td>\n",
       "      <td>7.0</td>\n",
       "      <td>18.5</td>\n",
       "      <td>&lt; 2001</td>\n",
       "      <td>1999</td>\n",
       "      <td>NaN</td>\n",
       "    </tr>\n",
       "    <tr>\n",
       "      <th>3</th>\n",
       "      <td>SM6</td>\n",
       "      <td>432189.567023</td>\n",
       "      <td>4.592317e+06</td>\n",
       "      <td>32.000</td>\n",
       "      <td>24.500</td>\n",
       "      <td>7.5</td>\n",
       "      <td>20.0</td>\n",
       "      <td>&lt; 2001</td>\n",
       "      <td>1999</td>\n",
       "      <td>NaN</td>\n",
       "    </tr>\n",
       "    <tr>\n",
       "      <th>4</th>\n",
       "      <td>SM20</td>\n",
       "      <td>432094.682088</td>\n",
       "      <td>4.591598e+06</td>\n",
       "      <td>29.255</td>\n",
       "      <td>21.255</td>\n",
       "      <td>8.0</td>\n",
       "      <td>26.0</td>\n",
       "      <td>&lt; 2001</td>\n",
       "      <td>1990</td>\n",
       "      <td>NaN</td>\n",
       "    </tr>\n",
       "  </tbody>\n",
       "</table>\n",
       "</div>"
      ],
      "text/plain": [
       "  sondeo              x             y       z     cnp  pnp  prof campanya  \\\n",
       "0    SM1  432119.530805  4.591804e+06  30.309  21.809  8.5  25.0   < 2001   \n",
       "1    SM3  432140.914559  4.591997e+06  30.465  22.965  7.5  23.0   < 2001   \n",
       "2    SM5  432166.579268  4.592210e+06  31.177  24.177  7.0  18.5   < 2001   \n",
       "3    SM6  432189.567023  4.592317e+06  32.000  24.500  7.5  20.0   < 2001   \n",
       "4   SM20  432094.682088  4.591598e+06  29.255  21.255  8.0  26.0   < 2001   \n",
       "\n",
       "   anyo_lectura observacio  \n",
       "0          1999        NaN  \n",
       "1          2005        NaN  \n",
       "2          1999        NaN  \n",
       "3          1999        NaN  \n",
       "4          1990        NaN  "
      ]
     },
     "execution_count": 2,
     "metadata": {},
     "output_type": "execute_result"
    }
   ],
   "source": [
    "fpath = r'E:\\Cursos\\H2OGEO\\2023_Modelacion_HGeo\\Ej_2\\Niveles\\_niveles_epsg25831_in_domain.csv'\n",
    "df = pd.read_csv(fpath) \n",
    "df.head()"
   ]
  },
  {
   "cell_type": "markdown",
   "id": "15305a39-d8ce-4cf2-a99d-9814d9cd7e8b",
   "metadata": {},
   "source": [
    "## Rejilla del modelo"
   ]
  },
  {
   "cell_type": "code",
   "execution_count": 3,
   "id": "7eab5d85-fc7d-464e-b242-734b40725db7",
   "metadata": {},
   "outputs": [],
   "source": [
    "modelname = 'Moncada.nam'\n",
    "model_ws = 'E:/Cursos/H2OGEO/2023_Modelacion_HGeo/Ej_2'\n",
    "length_unit = 'm'\n",
    "time_unit = 'day'"
   ]
  },
  {
   "cell_type": "code",
   "execution_count": 42,
   "id": "aaa5c5d6-2de7-499d-bbb7-1ff26cb4a3f4",
   "metadata": {},
   "outputs": [
    {
     "name": "stdout",
     "output_type": "stream",
     "text": [
      "loading simulation...\n",
      "  loading simulation name file...\n",
      "  loading tdis package...\n",
      "  loading model gwf6...\n",
      "    loading package disv...\n",
      "WARNING: Unable to resolve dimension of ('gwf6', 'disv', 'cell2d', 'cell2d', 'icvert') based on shape \"ncvert\".\n",
      "    loading package ic...\n",
      "WARNING: Block \"options\" is not a valid block name for file type ic.\n",
      "    loading package npf...\n",
      "    loading package gnc...\n",
      "    loading package oc...\n",
      "    loading package chd...\n",
      "    loading package wel...\n",
      "    loading package riv...\n",
      "    loading package rch...\n",
      "  loading solution package modflow...\n",
      "\n",
      "Model names in sim ['modflow']\n",
      "Type of grid: vertex\n",
      "Number of layers: {internal}\n",
      "(1)\n",
      "\n",
      "Number of stress periods: 1\n"
     ]
    }
   ],
   "source": [
    "sim = mf6.MFSimulation.load(sim_name=modelname, exe_name='mf6', sim_ws=model_ws)\n",
    "\n",
    "model_names = list(sim.model_names)\n",
    "print('\\nModel names in sim', model_names)\n",
    "\n",
    "gwf = sim.get_model(model_names[0])\n",
    "\n",
    "grid_type = gwf.modelgrid.grid_type\n",
    "print('Type of grid:', grid_type)\n",
    "    \n",
    "disv = gwf.get_package('disv')\n",
    "print('Number of layers:', disv.nlay)\n",
    "\n",
    "nper = tdis.nper.get_data()\n",
    "print('Number of stress periods:', nper)    "
   ]
  },
  {
   "cell_type": "markdown",
   "id": "334bd832-ebc5-45cb-b76a-d05b57775fca",
   "metadata": {},
   "source": [
    "## Asociar a cada sondeo la h simulada y cálculo de RMSE  "
   ]
  },
  {
   "cell_type": "code",
   "execution_count": null,
   "id": "4f7ffb6d-8939-4070-aad2-71d3dd89fa6a",
   "metadata": {},
   "outputs": [],
   "source": [
    "# get the cell id for each point in df\n",
    "cells_ids =[gwf.modelgrid.intersect(row['x'], row['y']) for index, row in df.iterrows()]"
   ]
  },
  {
   "cell_type": "code",
   "execution_count": 48,
   "id": "bc92a021-4945-4cb2-83be-e661a6980b3b",
   "metadata": {},
   "outputs": [
    {
     "name": "stdout",
     "output_type": "stream",
     "text": [
      "1.0\n",
      "Root Mean Squared Error (RMSE): 2.5585012337191912 m\n"
     ]
    },
    {
     "data": {
      "text/html": [
       "<div>\n",
       "<style scoped>\n",
       "    .dataframe tbody tr th:only-of-type {\n",
       "        vertical-align: middle;\n",
       "    }\n",
       "\n",
       "    .dataframe tbody tr th {\n",
       "        vertical-align: top;\n",
       "    }\n",
       "\n",
       "    .dataframe thead th {\n",
       "        text-align: right;\n",
       "    }\n",
       "</style>\n",
       "<table border=\"1\" class=\"dataframe\">\n",
       "  <thead>\n",
       "    <tr style=\"text-align: right;\">\n",
       "      <th></th>\n",
       "      <th>sondeo</th>\n",
       "      <th>cnp</th>\n",
       "      <th>h_sim</th>\n",
       "      <th>er</th>\n",
       "      <th>x</th>\n",
       "      <th>y</th>\n",
       "    </tr>\n",
       "  </thead>\n",
       "  <tbody>\n",
       "    <tr>\n",
       "      <th>0</th>\n",
       "      <td>SM1</td>\n",
       "      <td>21.809</td>\n",
       "      <td>22.950666</td>\n",
       "      <td>-1.141666</td>\n",
       "      <td>432119.530805</td>\n",
       "      <td>4.591804e+06</td>\n",
       "    </tr>\n",
       "    <tr>\n",
       "      <th>1</th>\n",
       "      <td>SM3</td>\n",
       "      <td>22.965</td>\n",
       "      <td>23.598200</td>\n",
       "      <td>-0.633200</td>\n",
       "      <td>432140.914559</td>\n",
       "      <td>4.591997e+06</td>\n",
       "    </tr>\n",
       "    <tr>\n",
       "      <th>2</th>\n",
       "      <td>SM5</td>\n",
       "      <td>24.177</td>\n",
       "      <td>24.300083</td>\n",
       "      <td>-0.123083</td>\n",
       "      <td>432166.579268</td>\n",
       "      <td>4.592210e+06</td>\n",
       "    </tr>\n",
       "    <tr>\n",
       "      <th>3</th>\n",
       "      <td>SM6</td>\n",
       "      <td>24.500</td>\n",
       "      <td>24.589340</td>\n",
       "      <td>-0.089340</td>\n",
       "      <td>432189.567023</td>\n",
       "      <td>4.592317e+06</td>\n",
       "    </tr>\n",
       "    <tr>\n",
       "      <th>4</th>\n",
       "      <td>SM20</td>\n",
       "      <td>21.255</td>\n",
       "      <td>22.222364</td>\n",
       "      <td>-0.967364</td>\n",
       "      <td>432094.682088</td>\n",
       "      <td>4.591598e+06</td>\n",
       "    </tr>\n",
       "  </tbody>\n",
       "</table>\n",
       "</div>"
      ],
      "text/plain": [
       "  sondeo     cnp      h_sim        er              x             y\n",
       "0    SM1  21.809  22.950666 -1.141666  432119.530805  4.591804e+06\n",
       "1    SM3  22.965  23.598200 -0.633200  432140.914559  4.591997e+06\n",
       "2    SM5  24.177  24.300083 -0.123083  432166.579268  4.592210e+06\n",
       "3    SM6  24.500  24.589340 -0.089340  432189.567023  4.592317e+06\n",
       "4   SM20  21.255  22.222364 -0.967364  432094.682088  4.591598e+06"
      ]
     },
     "execution_count": 48,
     "metadata": {},
     "output_type": "execute_result"
    }
   ],
   "source": [
    "headfile = 'Moncada.bhd'\n",
    "nlayer = 0\n",
    "fresults = './calibra_estacionario/h_obs_vs_sim_disv_stationary.csv'\n",
    "\n",
    "# create headfile object\n",
    "headobj = bf.HeadFile(headfile)\n",
    "\n",
    "# get all times\n",
    "times = headobj.get_times()\n",
    "if len(times) > 1:\n",
    "    raise ValueError('This is not staionary simmulation')\n",
    "\n",
    "# get the heads in a stationary simmulation\n",
    "h_sim = []\n",
    "for time in times:\n",
    "    print(time)\n",
    "    head = headobj.get_data(totim=time)\n",
    "    for cell_id in cells_ids:\n",
    "        h_sim.append(head[0, 0, cell_id + nlayer])\n",
    "\n",
    "df['h_sim'] = h_sim\n",
    "df['er'] = df['cnp'] - df['h_sim']\n",
    "mse = ((df['er'])**2).mean()\n",
    "rmse = np.sqrt(mse)\n",
    "print(f'Root Mean Squared Error (RMSE): {rmse} {length_unit}')\n",
    "\n",
    "result = df[['sondeo', 'cnp', 'h_sim', 'er', 'x', 'y']]\n",
    "\n",
    "result.to_csv(fresults, index=False)\n",
    "\n",
    "result.head()"
   ]
  },
  {
   "cell_type": "markdown",
   "id": "a084c0ce-77ba-472b-b31c-b6ecec4eb5dc",
   "metadata": {},
   "source": [
    "## Plot h medida versus calculada"
   ]
  },
  {
   "cell_type": "code",
   "execution_count": 49,
   "id": "83024760-a115-4f29-8de8-480bd2b0009f",
   "metadata": {},
   "outputs": [
    {
     "data": {
      "image/png": "[encoded data removed]",
      "text/plain": [
       "<Figure size 640x480 with 1 Axes>"
      ]
     },
     "metadata": {},
     "output_type": "display_data"
    }
   ],
   "source": [
    "file_plot = './calibra_estacionario/h_observ_vs_calculada.png'\n",
    "\n",
    "fig, ax = plt.subplots()\n",
    "\n",
    "# Scatter plot\n",
    "ax.scatter(df['cnp'], df['h_sim'], label=f'RMSE {rmse}')\n",
    "\n",
    "# Diagonal line (1 to 1 ratio)\n",
    "ax.plot([0., df['cnp'].max()], [0., df['cnp'].max()], \n",
    "        color='red', linestyle='--')\n",
    "\n",
    "# Set plot title and axis labels\n",
    "ax.set_title('H medida y calculada en los puntos de observación')\n",
    "ax.set_xlabel(f'h medidos ({length_unit})')\n",
    "ax.set_ylabel(f'h calculados ({length_unit})')\n",
    "\n",
    "# Display legend\n",
    "ax.legend()\n",
    "ax.grid()\n",
    "\n",
    "fig.savefig(file_plot)\n",
    "\n",
    "# Show the plot\n",
    "plt.show()\n"
   ]
  },
  {
   "cell_type": "code",
   "execution_count": null,
   "id": "b1341f3c-1757-44b2-9651-f906c8ade8ff",
   "metadata": {},
   "outputs": [],
   "source": []
  }
 ],
 "metadata": {
  "kernelspec": {
   "display_name": "Python 3 (ipykernel)",
   "language": "python",
   "name": "python3"
  },
  "language_info": {
   "codemirror_mode": {
    "name": "ipython",
    "version": 3
   },
   "file_extension": ".py",
   "mimetype": "text/x-python",
   "name": "python",
   "nbconvert_exporter": "python",
   "pygments_lexer": "ipython3",
   "version": "3.12.0"
  }
 },
 "nbformat": 4,
 "nbformat_minor": 5
}
