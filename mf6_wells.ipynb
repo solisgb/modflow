{
 "cells": [
  {
   "cell_type": "markdown",
   "id": "72afe394-75e6-4c36-a80c-d707bed56247",
   "metadata": {},
   "source": [
    "# Pozos en WELL package"
   ]
  },
  {
   "cell_type": "code",
   "execution_count": 1,
   "id": "5c6524ed-34d1-4e70-bcc4-9110bd0442e1",
   "metadata": {},
   "outputs": [],
   "source": [
    "# This is because I was changing mf_plots.py as I was working here\n",
    "%load_ext autoreload\n",
    "%autoreload 2"
   ]
  },
  {
   "cell_type": "code",
   "execution_count": 2,
   "id": "9fed1bd7-4009-4735-a505-7c7de3897a37",
   "metadata": {},
   "outputs": [],
   "source": [
    "import flopy.mf6 as mf6\n",
    "import pandas as pd\n",
    "from pathlib import Path"
   ]
  },
  {
   "cell_type": "code",
   "execution_count": 3,
   "id": "ae220cb7-f1b7-45b3-8121-e459f43739b6",
   "metadata": {},
   "outputs": [],
   "source": [
    "# import mf_plots.py located in the same directory\n",
    "import os\n",
    "current_dir = os.getcwd()\n",
    "os.environ['PYTHONPATH'] = current_dir\n",
    "import mf_utils"
   ]
  },
  {
   "cell_type": "markdown",
   "id": "096f7fee-c2f4-470e-b4bf-df699900a41f",
   "metadata": {},
   "source": [
    "## Localización del modelo"
   ]
  },
  {
   "cell_type": "code",
   "execution_count": 4,
   "id": "8ec3a6fd-ef6f-48f2-9d4d-90b8025d1a37",
   "metadata": {},
   "outputs": [],
   "source": [
    "# Modflow: file and directory names\n",
    "modelname = 'Moncada.nam'\n",
    "model_ws = 'E:/Cursos/H2OGEO/2023_Modelacion_HGeo/Ej_3'\n",
    "model_ws_path = Path(model_ws)\n",
    "\n",
    "# Units for labels\n",
    "length_unit = 'm'\n",
    "time_unit = 'day'"
   ]
  },
  {
   "cell_type": "markdown",
   "id": "2db8fcb6-b3ec-4b2b-9e2f-16a6a5f623e7",
   "metadata": {},
   "source": [
    "## Read the model and get some basic characteristics"
   ]
  },
  {
   "cell_type": "code",
   "execution_count": 26,
   "id": "b2af2607-377e-41e1-8a61-74fe7f9e0dd3",
   "metadata": {},
   "outputs": [
    {
     "name": "stdout",
     "output_type": "stream",
     "text": [
      "loading simulation...\n",
      "  loading simulation name file...\n",
      "  loading tdis package...\n",
      "  loading model gwf6...\n",
      "    loading package disv...\n",
      "WARNING: Unable to resolve dimension of ('gwf6', 'disv', 'cell2d', 'cell2d', 'icvert') based on shape \"ncvert\".\n",
      "    loading package ic...\n",
      "    loading package npf...\n",
      "    loading package gnc...\n",
      "    loading package oc...\n",
      "    loading package chd...\n",
      "    loading package wel...\n",
      "    loading package riv...\n",
      "    loading package rch...\n",
      "  loading solution package modflow...\n",
      "\n",
      "Model names in sim ['modflow']\n",
      "Type of grid: vertex\n",
      "Number of layers: {internal}\n",
      "(1)\n",
      "\n",
      "Number of stress periods: 1\n"
     ]
    }
   ],
   "source": [
    "# gwf is instantiated and some basic features are shown\n",
    "sim = mf6.MFSimulation.load(sim_name=modelname, exe_name='mf6', sim_ws=model_ws)\n",
    "\n",
    "model_names = list(sim.model_names)\n",
    "print('\\nModel names in sim', model_names)\n",
    "\n",
    "gwf = sim.get_model(model_names[0])\n",
    "\n",
    "grid_type = gwf.modelgrid.grid_type\n",
    "print('Type of grid:', grid_type)\n",
    "    \n",
    "disv = gwf.get_package('disv')\n",
    "print('Number of layers:', disv.nlay)\n",
    "\n",
    "tdis = sim.tdis\n",
    "nper = tdis.nper.get_data()\n",
    "print('Number of stress periods:', nper)   "
   ]
  },
  {
   "cell_type": "markdown",
   "id": "5f0f8535-1097-4413-8e33-70ea71ea7067",
   "metadata": {},
   "source": [
    "## Datos de los pozos\n"
   ]
  },
  {
   "cell_type": "code",
   "execution_count": 27,
   "id": "81d238a8-a3de-43cc-94f7-532d6e6c973d",
   "metadata": {},
   "outputs": [
    {
     "name": "stdout",
     "output_type": "stream",
     "text": [
      "The number of wells in the model is: 19\n",
      "Number of pumping rates (nwells*nstress_periods):  19\n"
     ]
    }
   ],
   "source": [
    "# Get the well package\n",
    "well_pck = gwf.get_package('WEL')\n",
    "well_df = mf_utils.wells_to_df(well_pck, False)"
   ]
  },
  {
   "cell_type": "code",
   "execution_count": 28,
   "id": "331a8b0c-e5bf-47b8-8e3e-192c06ff078b",
   "metadata": {},
   "outputs": [
    {
     "data": {
      "text/html": [
       "<div>\n",
       "<style scoped>\n",
       "    .dataframe tbody tr th:only-of-type {\n",
       "        vertical-align: middle;\n",
       "    }\n",
       "\n",
       "    .dataframe tbody tr th {\n",
       "        vertical-align: top;\n",
       "    }\n",
       "\n",
       "    .dataframe thead th {\n",
       "        text-align: right;\n",
       "    }\n",
       "</style>\n",
       "<table border=\"1\" class=\"dataframe\">\n",
       "  <thead>\n",
       "    <tr style=\"text-align: right;\">\n",
       "      <th></th>\n",
       "      <th>layer</th>\n",
       "      <th>cell_id</th>\n",
       "      <th>pumping_rate</th>\n",
       "      <th>stress_period</th>\n",
       "      <th>well_id</th>\n",
       "    </tr>\n",
       "  </thead>\n",
       "  <tbody>\n",
       "    <tr>\n",
       "      <th>0</th>\n",
       "      <td>0</td>\n",
       "      <td>16898</td>\n",
       "      <td>-144.44</td>\n",
       "      <td>0</td>\n",
       "      <td>'productes_aditius_2'</td>\n",
       "    </tr>\n",
       "    <tr>\n",
       "      <th>1</th>\n",
       "      <td>0</td>\n",
       "      <td>16620</td>\n",
       "      <td>-1183.56</td>\n",
       "      <td>0</td>\n",
       "      <td>'productes_aditius_1'</td>\n",
       "    </tr>\n",
       "    <tr>\n",
       "      <th>2</th>\n",
       "      <td>0</td>\n",
       "      <td>9946</td>\n",
       "      <td>-155.50</td>\n",
       "      <td>0</td>\n",
       "      <td>'pozo_indianes'</td>\n",
       "    </tr>\n",
       "    <tr>\n",
       "      <th>3</th>\n",
       "      <td>0</td>\n",
       "      <td>8556</td>\n",
       "      <td>-65.75</td>\n",
       "      <td>0</td>\n",
       "      <td>'pozo_ceballos'</td>\n",
       "    </tr>\n",
       "    <tr>\n",
       "      <th>4</th>\n",
       "      <td>0</td>\n",
       "      <td>4384</td>\n",
       "      <td>-24.93</td>\n",
       "      <td>0</td>\n",
       "      <td>'pozo_cal_sant'</td>\n",
       "    </tr>\n",
       "  </tbody>\n",
       "</table>\n",
       "</div>"
      ],
      "text/plain": [
       "   layer  cell_id  pumping_rate  stress_period                well_id\n",
       "0      0    16898       -144.44              0  'productes_aditius_2'\n",
       "1      0    16620      -1183.56              0  'productes_aditius_1'\n",
       "2      0     9946       -155.50              0        'pozo_indianes'\n",
       "3      0     8556        -65.75              0        'pozo_ceballos'\n",
       "4      0     4384        -24.93              0        'pozo_cal_sant'"
      ]
     },
     "execution_count": 28,
     "metadata": {},
     "output_type": "execute_result"
    }
   ],
   "source": [
    "well_df.head()"
   ]
  },
  {
   "cell_type": "code",
   "execution_count": 13,
   "id": "22879485-0306-49b9-9fe0-c485bdf2f03b",
   "metadata": {},
   "outputs": [],
   "source": [
    "well_df.to_csv(r'E:\\Cursos\\H2OGEO\\2023_Modelacion_HGeo\\Ej_3\\Pozos\\Pumping_rates.csv', index=False)"
   ]
  },
  {
   "cell_type": "markdown",
   "id": "b2ecfba8-2af0-45b9-b250-8ca37fd1a1fd",
   "metadata": {},
   "source": [
    "## Read the file with the pumping rates"
   ]
  },
  {
   "cell_type": "code",
   "execution_count": 25,
   "id": "b668078a-be57-470a-b44c-7337e9a70299",
   "metadata": {},
   "outputs": [
    {
     "name": "stdout",
     "output_type": "stream",
     "text": [
      "'productes_aditius_2'has been updated\n",
      "'pozo_indianes'has been updated\n",
      "writing simulation...\n",
      "  writing simulation name file...\n",
      "  writing simulation tdis package...\n",
      "  writing solution package modflow...\n",
      "  writing model modflow...\n",
      "    writing model name file...\n",
      "    writing package disv...\n",
      "    writing package ic...\n",
      "    writing package npf...\n",
      "    writing package gnc...\n",
      "    writing package oc...\n",
      "    writing package chd-1...\n",
      "    writing package wel-1...\n",
      "    writing package riv-1...\n",
      "    writing package rch-1...\n"
     ]
    }
   ],
   "source": [
    "# Define the new pumping rates for the wells you want to change\n",
    "# The keys are tuples where the first element is the well name, the second element is the stress period,\n",
    "# the third element is the layer, and the fourth element is the cell identifier\n",
    "# well identifier, stress period, layer, cell identifier\n",
    "new_pumping_rates = {\n",
    "    (\"'productes_aditius_2'\", 0, 0, 16898): -144.44,  # Change the pumping rate of 'well_1' in stress period 1, layer 1, cell 16899\n",
    "    (\"'pozo_indianes'\", 0, 0, 9946): -155.5,  # Change the pumping rate of 'well_2' in stress period 2, layer 1, cell 16901\n",
    "    # Add more wells here if needed\n",
    "}\n",
    "\n",
    "obj = mf_utils.wells_update_pumping_rates(well_pck, new_pumping_rates)\n",
    "sim.write_simulation()"
   ]
  },
  {
   "cell_type": "code",
   "execution_count": 24,
   "id": "36a23080-f3d9-4470-94d8-e47824249eb8",
   "metadata": {},
   "outputs": [
    {
     "name": "stdout",
     "output_type": "stream",
     "text": [
      "{0: rec.array([((0, 16898), -1.444400e+02, 0, \"'productes_aditius_2'\"),\n",
      "           ((0, 16620), -1.183560e+03, 0, \"'productes_aditius_1'\"),\n",
      "           ((0, 9946), -1.555000e+02, 0, \"'pozo_indianes'\"),\n",
      "           ((0, 8556), -6.575000e+01, 0, \"'pozo_ceballos'\"),\n",
      "           ((0, 4384), -2.493000e+01, 0, \"'pozo_cal_sant'\"),\n",
      "           ((0, 14814), -5.205000e+01, 0, \"'c___montiu'\"),\n",
      "           ((0, 19125), -1.304600e+02, 0, \"'intorsa'\"),\n",
      "           ((0, 7030), -7.237000e+02, 0, \"'gyr'\"),\n",
      "           ((0, 6195), -3.945000e+01, 0, \"'polinter_1'\"),\n",
      "           ((0, 23460), -2.828050e+03, 0, \"'ferrolan'\"),\n",
      "           ((0, 30137), -1.136990e+03, 0, \"'central_besã_s_3_sgae_pozo_st__andreu'\"),\n",
      "           ((0, 5646), -7.562000e+01, 0, \"'polinter_2'\"),\n",
      "           ((0, 4812), -2.169860e+03, 0, \"'p_3_pla_d_en_coll'\"),\n",
      "           ((0, 5926), -3.288000e+01, 0, \"'p_1_pla_d_en_coll'\"),\n",
      "           ((0, 3845), -4.419000e+01, 0, \"'motor_ibã_rica'\"),\n",
      "           ((0, 2878), -7.237000e+02, 0, \"'pozo_tuxants'\"),\n",
      "           ((0, 32659), -3.537054e+04, 0, \"'miquel_costas_pozo_1'\"),\n",
      "           ((0, 4136), -3.797000e+01, 0, \"'pozo_regants__p_1_'\"),\n",
      "           ((0, 33220), -7.671230e+03, 0, \"'miquel_costas_pozo_2'\")],\n",
      "          dtype=[('cellid', 'O'), ('q', '<f8'), ('iface', '<i8'), ('boundname', 'O')])}\n"
     ]
    }
   ],
   "source": [
    "print(obj)     "
   ]
  },
  {
   "cell_type": "code",
   "execution_count": 19,
   "id": "a62de047-0941-4f41-9fd1-3bf233ebe727",
   "metadata": {},
   "outputs": [
    {
     "data": {
      "text/html": [
       "<div>\n",
       "<style scoped>\n",
       "    .dataframe tbody tr th:only-of-type {\n",
       "        vertical-align: middle;\n",
       "    }\n",
       "\n",
       "    .dataframe tbody tr th {\n",
       "        vertical-align: top;\n",
       "    }\n",
       "\n",
       "    .dataframe thead th {\n",
       "        text-align: right;\n",
       "    }\n",
       "</style>\n",
       "<table border=\"1\" class=\"dataframe\">\n",
       "  <thead>\n",
       "    <tr style=\"text-align: right;\">\n",
       "      <th></th>\n",
       "      <th>layer</th>\n",
       "      <th>cell_id</th>\n",
       "      <th>pumping_rate</th>\n",
       "      <th>stress_period</th>\n",
       "      <th>well_id</th>\n",
       "    </tr>\n",
       "  </thead>\n",
       "  <tbody>\n",
       "    <tr>\n",
       "      <th>0</th>\n",
       "      <td>0</td>\n",
       "      <td>16898</td>\n",
       "      <td>-145.66</td>\n",
       "      <td>0</td>\n",
       "      <td>'productes_aditius_2'</td>\n",
       "    </tr>\n",
       "    <tr>\n",
       "      <th>1</th>\n",
       "      <td>0</td>\n",
       "      <td>16620</td>\n",
       "      <td>-1183.56</td>\n",
       "      <td>0</td>\n",
       "      <td>'productes_aditius_1'</td>\n",
       "    </tr>\n",
       "    <tr>\n",
       "      <th>2</th>\n",
       "      <td>0</td>\n",
       "      <td>9946</td>\n",
       "      <td>-155.50</td>\n",
       "      <td>0</td>\n",
       "      <td>'pozo_indianes'</td>\n",
       "    </tr>\n",
       "    <tr>\n",
       "      <th>3</th>\n",
       "      <td>0</td>\n",
       "      <td>8556</td>\n",
       "      <td>-65.75</td>\n",
       "      <td>0</td>\n",
       "      <td>'pozo_ceballos'</td>\n",
       "    </tr>\n",
       "    <tr>\n",
       "      <th>4</th>\n",
       "      <td>0</td>\n",
       "      <td>4384</td>\n",
       "      <td>-24.93</td>\n",
       "      <td>0</td>\n",
       "      <td>'pozo_cal_sant'</td>\n",
       "    </tr>\n",
       "  </tbody>\n",
       "</table>\n",
       "</div>"
      ],
      "text/plain": [
       "   layer  cell_id  pumping_rate  stress_period                well_id\n",
       "0      0    16898       -145.66              0  'productes_aditius_2'\n",
       "1      0    16620      -1183.56              0  'productes_aditius_1'\n",
       "2      0     9946       -155.50              0        'pozo_indianes'\n",
       "3      0     8556        -65.75              0        'pozo_ceballos'\n",
       "4      0     4384        -24.93              0        'pozo_cal_sant'"
      ]
     },
     "execution_count": 19,
     "metadata": {},
     "output_type": "execute_result"
    }
   ],
   "source": [
    "well_df.head()"
   ]
  }
 ],
 "metadata": {
  "kernelspec": {
   "display_name": "Python 3 (ipykernel)",
   "language": "python",
   "name": "python3"
  },
  "language_info": {
   "codemirror_mode": {
    "name": "ipython",
    "version": 3
   },
   "file_extension": ".py",
   "mimetype": "text/x-python",
   "name": "python",
   "nbconvert_exporter": "python",
   "pygments_lexer": "ipython3",
   "version": "3.12.0"
  }
 },
 "nbformat": 4,
 "nbformat_minor": 5
}
